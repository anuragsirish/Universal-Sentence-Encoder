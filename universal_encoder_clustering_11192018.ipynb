{
 "cells": [
  {
   "cell_type": "markdown",
   "metadata": {},
   "source": [
    "# Description: This notebook explains how Universal Sentence Encoder is better than a TF-IDF Model\n",
    "# Author Name: Anurag Karuparti"
   ]
  },
  {
   "cell_type": "markdown",
   "metadata": {},
   "source": [
    "# 1. IMPORTING ALL NECESSARY LIBRARIES & DATA"
   ]
  },
  {
   "cell_type": "code",
   "execution_count": 1,
   "metadata": {},
   "outputs": [],
   "source": [
    "import tensorflow_hub as hub\n",
    "import tensorflow as tf\n",
    "import os\n",
    "import pickle\n",
    "import numpy as np\n",
    "from sklearn.decomposition import PCA\n",
    "from sklearn.metrics.pairwise import cosine_similarity\n",
    "from sklearn.preprocessing import normalize\n",
    "from sklearn.cluster import KMeans\n",
    "from scipy.spatial.distance import cdist, pdist\n",
    "from sklearn.feature_extraction.text import TfidfVectorizer\n",
    "from nltk.corpus import stopwords\n",
    "from string import punctuation\n",
    "from collections import Counter\n",
    "import matplotlib.pyplot as plt\n",
    "import pandas as pd\n",
    "import itertools\n",
    "import functions\n",
    "import data_utils\n",
    "import modularity\n",
    "from sklearn.externals import joblib\n",
    "from sklearn.feature_extraction import text\n",
    "stop_words = text.ENGLISH_STOP_WORDS\n",
    "from array import array\n",
    "import nltk, re, string, collections\n",
    "from nltk.util import ngrams"
   ]
  },
  {
   "cell_type": "markdown",
   "metadata": {},
   "source": [
    "### EXTRACTING ~300K TITLES"
   ]
  },
  {
   "cell_type": "code",
   "execution_count": 2,
   "metadata": {},
   "outputs": [],
   "source": [
    "submissions = pickle.load(open('/financial_wellness_chatbot/data/personalfinance_submissions.pickle', 'rb'))\n",
    "vectorize_on = 'title_query'\n",
    "if vectorize_on == 'title': data = [s.title for s in submissions]\n",
    "elif vectorize_on == 'query': data = [s.selftext for s in submissions]\n",
    "elif vectorize_on =='title_query':data= [(s.title, s.selftext) for s in submissions]"
   ]
  },
  {
   "cell_type": "code",
   "execution_count": 3,
   "metadata": {},
   "outputs": [
    {
     "data": {
      "text/plain": [
       "297018"
      ]
     },
     "execution_count": 3,
     "metadata": {},
     "output_type": "execute_result"
    }
   ],
   "source": [
    "len(data)"
   ]
  },
  {
   "cell_type": "markdown",
   "metadata": {},
   "source": [
    "# 2. PASSING THE DATA THROUGH UNIVERSAL SENTENCE ENCODER"
   ]
  },
  {
   "cell_type": "code",
   "execution_count": 4,
   "metadata": {},
   "outputs": [],
   "source": [
    "## activating the BATCHER FUNCTION\n",
    "batcher = data_utils.DataBatcher(data, 1000)"
   ]
  },
  {
   "cell_type": "code",
   "execution_count": 5,
   "metadata": {},
   "outputs": [],
   "source": [
    "##CALLING UNVERSAL SENTENCE ENCODER\n",
    "module_url = \"https://tfhub.dev/google/universal-sentence-encoder-large/3\""
   ]
  },
  {
   "cell_type": "code",
   "execution_count": 6,
   "metadata": {},
   "outputs": [],
   "source": [
    "##USING THE EMBED FUNCTION\n",
    "\n",
    "def embed_func():\n",
    "    \"\"\"Encodes text into a 512 dimensional vector embedding\"\"\"\n",
    "    \n",
    "    graph = tf.Graph()\n",
    "    \n",
    "    with graph.as_default():\n",
    "        embed = hub.Module(module_url)\n",
    "        session = tf.Session()\n",
    "        session.run([tf.global_variables_initializer(), tf.tables_initializer()])\n",
    "    \n",
    "    def run_embed(text_list):\n",
    "        with graph.as_default():\n",
    "            message_embeddings = session.run(embed(text_list))\n",
    "        return message_embeddings\n",
    "    \n",
    "    return run_embed"
   ]
  },
  {
   "cell_type": "code",
   "execution_count": 7,
   "metadata": {},
   "outputs": [
    {
     "name": "stdout",
     "output_type": "stream",
     "text": [
      "INFO:tensorflow:Using /tmp/tfhub_modules to cache modules.\n",
      "INFO:tensorflow:Initialize variable module/Embeddings_en/sharded_0:0 from checkpoint b'/tmp/tfhub_modules/96e8f1d3d4d90ce86b2db128249eb8143a91db73/variables/variables' with Embeddings_en/sharded_0\n",
      "INFO:tensorflow:Initialize variable module/Embeddings_en/sharded_1:0 from checkpoint b'/tmp/tfhub_modules/96e8f1d3d4d90ce86b2db128249eb8143a91db73/variables/variables' with Embeddings_en/sharded_1\n",
      "INFO:tensorflow:Initialize variable module/Embeddings_en/sharded_10:0 from checkpoint b'/tmp/tfhub_modules/96e8f1d3d4d90ce86b2db128249eb8143a91db73/variables/variables' with Embeddings_en/sharded_10\n",
      "INFO:tensorflow:Initialize variable module/Embeddings_en/sharded_11:0 from checkpoint b'/tmp/tfhub_modules/96e8f1d3d4d90ce86b2db128249eb8143a91db73/variables/variables' with Embeddings_en/sharded_11\n",
      "INFO:tensorflow:Initialize variable module/Embeddings_en/sharded_12:0 from checkpoint b'/tmp/tfhub_modules/96e8f1d3d4d90ce86b2db128249eb8143a91db73/variables/variables' with Embeddings_en/sharded_12\n",
      "INFO:tensorflow:Initialize variable module/Embeddings_en/sharded_13:0 from checkpoint b'/tmp/tfhub_modules/96e8f1d3d4d90ce86b2db128249eb8143a91db73/variables/variables' with Embeddings_en/sharded_13\n",
      "INFO:tensorflow:Initialize variable module/Embeddings_en/sharded_14:0 from checkpoint b'/tmp/tfhub_modules/96e8f1d3d4d90ce86b2db128249eb8143a91db73/variables/variables' with Embeddings_en/sharded_14\n",
      "INFO:tensorflow:Initialize variable module/Embeddings_en/sharded_15:0 from checkpoint b'/tmp/tfhub_modules/96e8f1d3d4d90ce86b2db128249eb8143a91db73/variables/variables' with Embeddings_en/sharded_15\n",
      "INFO:tensorflow:Initialize variable module/Embeddings_en/sharded_16:0 from checkpoint b'/tmp/tfhub_modules/96e8f1d3d4d90ce86b2db128249eb8143a91db73/variables/variables' with Embeddings_en/sharded_16\n",
      "INFO:tensorflow:Initialize variable module/Embeddings_en/sharded_2:0 from checkpoint b'/tmp/tfhub_modules/96e8f1d3d4d90ce86b2db128249eb8143a91db73/variables/variables' with Embeddings_en/sharded_2\n",
      "INFO:tensorflow:Initialize variable module/Embeddings_en/sharded_3:0 from checkpoint b'/tmp/tfhub_modules/96e8f1d3d4d90ce86b2db128249eb8143a91db73/variables/variables' with Embeddings_en/sharded_3\n",
      "INFO:tensorflow:Initialize variable module/Embeddings_en/sharded_4:0 from checkpoint b'/tmp/tfhub_modules/96e8f1d3d4d90ce86b2db128249eb8143a91db73/variables/variables' with Embeddings_en/sharded_4\n",
      "INFO:tensorflow:Initialize variable module/Embeddings_en/sharded_5:0 from checkpoint b'/tmp/tfhub_modules/96e8f1d3d4d90ce86b2db128249eb8143a91db73/variables/variables' with Embeddings_en/sharded_5\n",
      "INFO:tensorflow:Initialize variable module/Embeddings_en/sharded_6:0 from checkpoint b'/tmp/tfhub_modules/96e8f1d3d4d90ce86b2db128249eb8143a91db73/variables/variables' with Embeddings_en/sharded_6\n",
      "INFO:tensorflow:Initialize variable module/Embeddings_en/sharded_7:0 from checkpoint b'/tmp/tfhub_modules/96e8f1d3d4d90ce86b2db128249eb8143a91db73/variables/variables' with Embeddings_en/sharded_7\n",
      "INFO:tensorflow:Initialize variable module/Embeddings_en/sharded_8:0 from checkpoint b'/tmp/tfhub_modules/96e8f1d3d4d90ce86b2db128249eb8143a91db73/variables/variables' with Embeddings_en/sharded_8\n",
      "INFO:tensorflow:Initialize variable module/Embeddings_en/sharded_9:0 from checkpoint b'/tmp/tfhub_modules/96e8f1d3d4d90ce86b2db128249eb8143a91db73/variables/variables' with Embeddings_en/sharded_9\n",
      "INFO:tensorflow:Initialize variable module/Encoder_en/Transformer/TransformerEncodeFast/encoder/layer_0/ffn/conv1/bias:0 from checkpoint b'/tmp/tfhub_modules/96e8f1d3d4d90ce86b2db128249eb8143a91db73/variables/variables' with Encoder_en/Transformer/TransformerEncodeFast/encoder/layer_0/ffn/conv1/bias\n",
      "INFO:tensorflow:Initialize variable module/Encoder_en/Transformer/TransformerEncodeFast/encoder/layer_0/ffn/conv1/kernel:0 from checkpoint b'/tmp/tfhub_modules/96e8f1d3d4d90ce86b2db128249eb8143a91db73/variables/variables' with Encoder_en/Transformer/TransformerEncodeFast/encoder/layer_0/ffn/conv1/kernel\n",
      "INFO:tensorflow:Initialize variable module/Encoder_en/Transformer/TransformerEncodeFast/encoder/layer_0/ffn/conv2/bias:0 from checkpoint b'/tmp/tfhub_modules/96e8f1d3d4d90ce86b2db128249eb8143a91db73/variables/variables' with Encoder_en/Transformer/TransformerEncodeFast/encoder/layer_0/ffn/conv2/bias\n",
      "INFO:tensorflow:Initialize variable module/Encoder_en/Transformer/TransformerEncodeFast/encoder/layer_0/ffn/conv2/kernel:0 from checkpoint b'/tmp/tfhub_modules/96e8f1d3d4d90ce86b2db128249eb8143a91db73/variables/variables' with Encoder_en/Transformer/TransformerEncodeFast/encoder/layer_0/ffn/conv2/kernel\n",
      "INFO:tensorflow:Initialize variable module/Encoder_en/Transformer/TransformerEncodeFast/encoder/layer_0/ffn/layer_prepostprocess/layer_norm/layer_norm_bias:0 from checkpoint b'/tmp/tfhub_modules/96e8f1d3d4d90ce86b2db128249eb8143a91db73/variables/variables' with Encoder_en/Transformer/TransformerEncodeFast/encoder/layer_0/ffn/layer_prepostprocess/layer_norm/layer_norm_bias\n",
      "INFO:tensorflow:Initialize variable module/Encoder_en/Transformer/TransformerEncodeFast/encoder/layer_0/ffn/layer_prepostprocess/layer_norm/layer_norm_scale:0 from checkpoint b'/tmp/tfhub_modules/96e8f1d3d4d90ce86b2db128249eb8143a91db73/variables/variables' with Encoder_en/Transformer/TransformerEncodeFast/encoder/layer_0/ffn/layer_prepostprocess/layer_norm/layer_norm_scale\n",
      "INFO:tensorflow:Initialize variable module/Encoder_en/Transformer/TransformerEncodeFast/encoder/layer_0/self_attention/layer_prepostprocess/layer_norm/layer_norm_bias:0 from checkpoint b'/tmp/tfhub_modules/96e8f1d3d4d90ce86b2db128249eb8143a91db73/variables/variables' with Encoder_en/Transformer/TransformerEncodeFast/encoder/layer_0/self_attention/layer_prepostprocess/layer_norm/layer_norm_bias\n",
      "INFO:tensorflow:Initialize variable module/Encoder_en/Transformer/TransformerEncodeFast/encoder/layer_0/self_attention/layer_prepostprocess/layer_norm/layer_norm_scale:0 from checkpoint b'/tmp/tfhub_modules/96e8f1d3d4d90ce86b2db128249eb8143a91db73/variables/variables' with Encoder_en/Transformer/TransformerEncodeFast/encoder/layer_0/self_attention/layer_prepostprocess/layer_norm/layer_norm_scale\n",
      "INFO:tensorflow:Initialize variable module/Encoder_en/Transformer/TransformerEncodeFast/encoder/layer_0/self_attention/multihead_attention/k/kernel:0 from checkpoint b'/tmp/tfhub_modules/96e8f1d3d4d90ce86b2db128249eb8143a91db73/variables/variables' with Encoder_en/Transformer/TransformerEncodeFast/encoder/layer_0/self_attention/multihead_attention/k/kernel\n",
      "INFO:tensorflow:Initialize variable module/Encoder_en/Transformer/TransformerEncodeFast/encoder/layer_0/self_attention/multihead_attention/output_transform/kernel:0 from checkpoint b'/tmp/tfhub_modules/96e8f1d3d4d90ce86b2db128249eb8143a91db73/variables/variables' with Encoder_en/Transformer/TransformerEncodeFast/encoder/layer_0/self_attention/multihead_attention/output_transform/kernel\n",
      "INFO:tensorflow:Initialize variable module/Encoder_en/Transformer/TransformerEncodeFast/encoder/layer_0/self_attention/multihead_attention/q/kernel:0 from checkpoint b'/tmp/tfhub_modules/96e8f1d3d4d90ce86b2db128249eb8143a91db73/variables/variables' with Encoder_en/Transformer/TransformerEncodeFast/encoder/layer_0/self_attention/multihead_attention/q/kernel\n",
      "INFO:tensorflow:Initialize variable module/Encoder_en/Transformer/TransformerEncodeFast/encoder/layer_0/self_attention/multihead_attention/v/kernel:0 from checkpoint b'/tmp/tfhub_modules/96e8f1d3d4d90ce86b2db128249eb8143a91db73/variables/variables' with Encoder_en/Transformer/TransformerEncodeFast/encoder/layer_0/self_attention/multihead_attention/v/kernel\n",
      "INFO:tensorflow:Initialize variable module/Encoder_en/Transformer/TransformerEncodeFast/encoder/layer_1/ffn/conv1/bias:0 from checkpoint b'/tmp/tfhub_modules/96e8f1d3d4d90ce86b2db128249eb8143a91db73/variables/variables' with Encoder_en/Transformer/TransformerEncodeFast/encoder/layer_1/ffn/conv1/bias\n",
      "INFO:tensorflow:Initialize variable module/Encoder_en/Transformer/TransformerEncodeFast/encoder/layer_1/ffn/conv1/kernel:0 from checkpoint b'/tmp/tfhub_modules/96e8f1d3d4d90ce86b2db128249eb8143a91db73/variables/variables' with Encoder_en/Transformer/TransformerEncodeFast/encoder/layer_1/ffn/conv1/kernel\n",
      "INFO:tensorflow:Initialize variable module/Encoder_en/Transformer/TransformerEncodeFast/encoder/layer_1/ffn/conv2/bias:0 from checkpoint b'/tmp/tfhub_modules/96e8f1d3d4d90ce86b2db128249eb8143a91db73/variables/variables' with Encoder_en/Transformer/TransformerEncodeFast/encoder/layer_1/ffn/conv2/bias\n",
      "INFO:tensorflow:Initialize variable module/Encoder_en/Transformer/TransformerEncodeFast/encoder/layer_1/ffn/conv2/kernel:0 from checkpoint b'/tmp/tfhub_modules/96e8f1d3d4d90ce86b2db128249eb8143a91db73/variables/variables' with Encoder_en/Transformer/TransformerEncodeFast/encoder/layer_1/ffn/conv2/kernel\n",
      "INFO:tensorflow:Initialize variable module/Encoder_en/Transformer/TransformerEncodeFast/encoder/layer_1/ffn/layer_prepostprocess/layer_norm/layer_norm_bias:0 from checkpoint b'/tmp/tfhub_modules/96e8f1d3d4d90ce86b2db128249eb8143a91db73/variables/variables' with Encoder_en/Transformer/TransformerEncodeFast/encoder/layer_1/ffn/layer_prepostprocess/layer_norm/layer_norm_bias\n",
      "INFO:tensorflow:Initialize variable module/Encoder_en/Transformer/TransformerEncodeFast/encoder/layer_1/ffn/layer_prepostprocess/layer_norm/layer_norm_scale:0 from checkpoint b'/tmp/tfhub_modules/96e8f1d3d4d90ce86b2db128249eb8143a91db73/variables/variables' with Encoder_en/Transformer/TransformerEncodeFast/encoder/layer_1/ffn/layer_prepostprocess/layer_norm/layer_norm_scale\n",
      "INFO:tensorflow:Initialize variable module/Encoder_en/Transformer/TransformerEncodeFast/encoder/layer_1/self_attention/layer_prepostprocess/layer_norm/layer_norm_bias:0 from checkpoint b'/tmp/tfhub_modules/96e8f1d3d4d90ce86b2db128249eb8143a91db73/variables/variables' with Encoder_en/Transformer/TransformerEncodeFast/encoder/layer_1/self_attention/layer_prepostprocess/layer_norm/layer_norm_bias\n",
      "INFO:tensorflow:Initialize variable module/Encoder_en/Transformer/TransformerEncodeFast/encoder/layer_1/self_attention/layer_prepostprocess/layer_norm/layer_norm_scale:0 from checkpoint b'/tmp/tfhub_modules/96e8f1d3d4d90ce86b2db128249eb8143a91db73/variables/variables' with Encoder_en/Transformer/TransformerEncodeFast/encoder/layer_1/self_attention/layer_prepostprocess/layer_norm/layer_norm_scale\n",
      "INFO:tensorflow:Initialize variable module/Encoder_en/Transformer/TransformerEncodeFast/encoder/layer_1/self_attention/multihead_attention/k/kernel:0 from checkpoint b'/tmp/tfhub_modules/96e8f1d3d4d90ce86b2db128249eb8143a91db73/variables/variables' with Encoder_en/Transformer/TransformerEncodeFast/encoder/layer_1/self_attention/multihead_attention/k/kernel\n",
      "INFO:tensorflow:Initialize variable module/Encoder_en/Transformer/TransformerEncodeFast/encoder/layer_1/self_attention/multihead_attention/output_transform/kernel:0 from checkpoint b'/tmp/tfhub_modules/96e8f1d3d4d90ce86b2db128249eb8143a91db73/variables/variables' with Encoder_en/Transformer/TransformerEncodeFast/encoder/layer_1/self_attention/multihead_attention/output_transform/kernel\n",
      "INFO:tensorflow:Initialize variable module/Encoder_en/Transformer/TransformerEncodeFast/encoder/layer_1/self_attention/multihead_attention/q/kernel:0 from checkpoint b'/tmp/tfhub_modules/96e8f1d3d4d90ce86b2db128249eb8143a91db73/variables/variables' with Encoder_en/Transformer/TransformerEncodeFast/encoder/layer_1/self_attention/multihead_attention/q/kernel\n",
      "INFO:tensorflow:Initialize variable module/Encoder_en/Transformer/TransformerEncodeFast/encoder/layer_1/self_attention/multihead_attention/v/kernel:0 from checkpoint b'/tmp/tfhub_modules/96e8f1d3d4d90ce86b2db128249eb8143a91db73/variables/variables' with Encoder_en/Transformer/TransformerEncodeFast/encoder/layer_1/self_attention/multihead_attention/v/kernel\n",
      "INFO:tensorflow:Initialize variable module/Encoder_en/Transformer/TransformerEncodeFast/encoder/layer_2/ffn/conv1/bias:0 from checkpoint b'/tmp/tfhub_modules/96e8f1d3d4d90ce86b2db128249eb8143a91db73/variables/variables' with Encoder_en/Transformer/TransformerEncodeFast/encoder/layer_2/ffn/conv1/bias\n",
      "INFO:tensorflow:Initialize variable module/Encoder_en/Transformer/TransformerEncodeFast/encoder/layer_2/ffn/conv1/kernel:0 from checkpoint b'/tmp/tfhub_modules/96e8f1d3d4d90ce86b2db128249eb8143a91db73/variables/variables' with Encoder_en/Transformer/TransformerEncodeFast/encoder/layer_2/ffn/conv1/kernel\n",
      "INFO:tensorflow:Initialize variable module/Encoder_en/Transformer/TransformerEncodeFast/encoder/layer_2/ffn/conv2/bias:0 from checkpoint b'/tmp/tfhub_modules/96e8f1d3d4d90ce86b2db128249eb8143a91db73/variables/variables' with Encoder_en/Transformer/TransformerEncodeFast/encoder/layer_2/ffn/conv2/bias\n",
      "INFO:tensorflow:Initialize variable module/Encoder_en/Transformer/TransformerEncodeFast/encoder/layer_2/ffn/conv2/kernel:0 from checkpoint b'/tmp/tfhub_modules/96e8f1d3d4d90ce86b2db128249eb8143a91db73/variables/variables' with Encoder_en/Transformer/TransformerEncodeFast/encoder/layer_2/ffn/conv2/kernel\n",
      "INFO:tensorflow:Initialize variable module/Encoder_en/Transformer/TransformerEncodeFast/encoder/layer_2/ffn/layer_prepostprocess/layer_norm/layer_norm_bias:0 from checkpoint b'/tmp/tfhub_modules/96e8f1d3d4d90ce86b2db128249eb8143a91db73/variables/variables' with Encoder_en/Transformer/TransformerEncodeFast/encoder/layer_2/ffn/layer_prepostprocess/layer_norm/layer_norm_bias\n",
      "INFO:tensorflow:Initialize variable module/Encoder_en/Transformer/TransformerEncodeFast/encoder/layer_2/ffn/layer_prepostprocess/layer_norm/layer_norm_scale:0 from checkpoint b'/tmp/tfhub_modules/96e8f1d3d4d90ce86b2db128249eb8143a91db73/variables/variables' with Encoder_en/Transformer/TransformerEncodeFast/encoder/layer_2/ffn/layer_prepostprocess/layer_norm/layer_norm_scale\n",
      "INFO:tensorflow:Initialize variable module/Encoder_en/Transformer/TransformerEncodeFast/encoder/layer_2/self_attention/layer_prepostprocess/layer_norm/layer_norm_bias:0 from checkpoint b'/tmp/tfhub_modules/96e8f1d3d4d90ce86b2db128249eb8143a91db73/variables/variables' with Encoder_en/Transformer/TransformerEncodeFast/encoder/layer_2/self_attention/layer_prepostprocess/layer_norm/layer_norm_bias\n",
      "INFO:tensorflow:Initialize variable module/Encoder_en/Transformer/TransformerEncodeFast/encoder/layer_2/self_attention/layer_prepostprocess/layer_norm/layer_norm_scale:0 from checkpoint b'/tmp/tfhub_modules/96e8f1d3d4d90ce86b2db128249eb8143a91db73/variables/variables' with Encoder_en/Transformer/TransformerEncodeFast/encoder/layer_2/self_attention/layer_prepostprocess/layer_norm/layer_norm_scale\n",
      "INFO:tensorflow:Initialize variable module/Encoder_en/Transformer/TransformerEncodeFast/encoder/layer_2/self_attention/multihead_attention/k/kernel:0 from checkpoint b'/tmp/tfhub_modules/96e8f1d3d4d90ce86b2db128249eb8143a91db73/variables/variables' with Encoder_en/Transformer/TransformerEncodeFast/encoder/layer_2/self_attention/multihead_attention/k/kernel\n",
      "INFO:tensorflow:Initialize variable module/Encoder_en/Transformer/TransformerEncodeFast/encoder/layer_2/self_attention/multihead_attention/output_transform/kernel:0 from checkpoint b'/tmp/tfhub_modules/96e8f1d3d4d90ce86b2db128249eb8143a91db73/variables/variables' with Encoder_en/Transformer/TransformerEncodeFast/encoder/layer_2/self_attention/multihead_attention/output_transform/kernel\n",
      "INFO:tensorflow:Initialize variable module/Encoder_en/Transformer/TransformerEncodeFast/encoder/layer_2/self_attention/multihead_attention/q/kernel:0 from checkpoint b'/tmp/tfhub_modules/96e8f1d3d4d90ce86b2db128249eb8143a91db73/variables/variables' with Encoder_en/Transformer/TransformerEncodeFast/encoder/layer_2/self_attention/multihead_attention/q/kernel\n",
      "INFO:tensorflow:Initialize variable module/Encoder_en/Transformer/TransformerEncodeFast/encoder/layer_2/self_attention/multihead_attention/v/kernel:0 from checkpoint b'/tmp/tfhub_modules/96e8f1d3d4d90ce86b2db128249eb8143a91db73/variables/variables' with Encoder_en/Transformer/TransformerEncodeFast/encoder/layer_2/self_attention/multihead_attention/v/kernel\n",
      "INFO:tensorflow:Initialize variable module/Encoder_en/Transformer/TransformerEncodeFast/encoder/layer_3/ffn/conv1/bias:0 from checkpoint b'/tmp/tfhub_modules/96e8f1d3d4d90ce86b2db128249eb8143a91db73/variables/variables' with Encoder_en/Transformer/TransformerEncodeFast/encoder/layer_3/ffn/conv1/bias\n",
      "INFO:tensorflow:Initialize variable module/Encoder_en/Transformer/TransformerEncodeFast/encoder/layer_3/ffn/conv1/kernel:0 from checkpoint b'/tmp/tfhub_modules/96e8f1d3d4d90ce86b2db128249eb8143a91db73/variables/variables' with Encoder_en/Transformer/TransformerEncodeFast/encoder/layer_3/ffn/conv1/kernel\n",
      "INFO:tensorflow:Initialize variable module/Encoder_en/Transformer/TransformerEncodeFast/encoder/layer_3/ffn/conv2/bias:0 from checkpoint b'/tmp/tfhub_modules/96e8f1d3d4d90ce86b2db128249eb8143a91db73/variables/variables' with Encoder_en/Transformer/TransformerEncodeFast/encoder/layer_3/ffn/conv2/bias\n",
      "INFO:tensorflow:Initialize variable module/Encoder_en/Transformer/TransformerEncodeFast/encoder/layer_3/ffn/conv2/kernel:0 from checkpoint b'/tmp/tfhub_modules/96e8f1d3d4d90ce86b2db128249eb8143a91db73/variables/variables' with Encoder_en/Transformer/TransformerEncodeFast/encoder/layer_3/ffn/conv2/kernel\n",
      "INFO:tensorflow:Initialize variable module/Encoder_en/Transformer/TransformerEncodeFast/encoder/layer_3/ffn/layer_prepostprocess/layer_norm/layer_norm_bias:0 from checkpoint b'/tmp/tfhub_modules/96e8f1d3d4d90ce86b2db128249eb8143a91db73/variables/variables' with Encoder_en/Transformer/TransformerEncodeFast/encoder/layer_3/ffn/layer_prepostprocess/layer_norm/layer_norm_bias\n",
      "INFO:tensorflow:Initialize variable module/Encoder_en/Transformer/TransformerEncodeFast/encoder/layer_3/ffn/layer_prepostprocess/layer_norm/layer_norm_scale:0 from checkpoint b'/tmp/tfhub_modules/96e8f1d3d4d90ce86b2db128249eb8143a91db73/variables/variables' with Encoder_en/Transformer/TransformerEncodeFast/encoder/layer_3/ffn/layer_prepostprocess/layer_norm/layer_norm_scale\n",
      "INFO:tensorflow:Initialize variable module/Encoder_en/Transformer/TransformerEncodeFast/encoder/layer_3/self_attention/layer_prepostprocess/layer_norm/layer_norm_bias:0 from checkpoint b'/tmp/tfhub_modules/96e8f1d3d4d90ce86b2db128249eb8143a91db73/variables/variables' with Encoder_en/Transformer/TransformerEncodeFast/encoder/layer_3/self_attention/layer_prepostprocess/layer_norm/layer_norm_bias\n",
      "INFO:tensorflow:Initialize variable module/Encoder_en/Transformer/TransformerEncodeFast/encoder/layer_3/self_attention/layer_prepostprocess/layer_norm/layer_norm_scale:0 from checkpoint b'/tmp/tfhub_modules/96e8f1d3d4d90ce86b2db128249eb8143a91db73/variables/variables' with Encoder_en/Transformer/TransformerEncodeFast/encoder/layer_3/self_attention/layer_prepostprocess/layer_norm/layer_norm_scale\n",
      "INFO:tensorflow:Initialize variable module/Encoder_en/Transformer/TransformerEncodeFast/encoder/layer_3/self_attention/multihead_attention/k/kernel:0 from checkpoint b'/tmp/tfhub_modules/96e8f1d3d4d90ce86b2db128249eb8143a91db73/variables/variables' with Encoder_en/Transformer/TransformerEncodeFast/encoder/layer_3/self_attention/multihead_attention/k/kernel\n",
      "INFO:tensorflow:Initialize variable module/Encoder_en/Transformer/TransformerEncodeFast/encoder/layer_3/self_attention/multihead_attention/output_transform/kernel:0 from checkpoint b'/tmp/tfhub_modules/96e8f1d3d4d90ce86b2db128249eb8143a91db73/variables/variables' with Encoder_en/Transformer/TransformerEncodeFast/encoder/layer_3/self_attention/multihead_attention/output_transform/kernel\n",
      "INFO:tensorflow:Initialize variable module/Encoder_en/Transformer/TransformerEncodeFast/encoder/layer_3/self_attention/multihead_attention/q/kernel:0 from checkpoint b'/tmp/tfhub_modules/96e8f1d3d4d90ce86b2db128249eb8143a91db73/variables/variables' with Encoder_en/Transformer/TransformerEncodeFast/encoder/layer_3/self_attention/multihead_attention/q/kernel\n",
      "INFO:tensorflow:Initialize variable module/Encoder_en/Transformer/TransformerEncodeFast/encoder/layer_3/self_attention/multihead_attention/v/kernel:0 from checkpoint b'/tmp/tfhub_modules/96e8f1d3d4d90ce86b2db128249eb8143a91db73/variables/variables' with Encoder_en/Transformer/TransformerEncodeFast/encoder/layer_3/self_attention/multihead_attention/v/kernel\n",
      "INFO:tensorflow:Initialize variable module/Encoder_en/Transformer/TransformerEncodeFast/encoder/layer_4/ffn/conv1/bias:0 from checkpoint b'/tmp/tfhub_modules/96e8f1d3d4d90ce86b2db128249eb8143a91db73/variables/variables' with Encoder_en/Transformer/TransformerEncodeFast/encoder/layer_4/ffn/conv1/bias\n",
      "INFO:tensorflow:Initialize variable module/Encoder_en/Transformer/TransformerEncodeFast/encoder/layer_4/ffn/conv1/kernel:0 from checkpoint b'/tmp/tfhub_modules/96e8f1d3d4d90ce86b2db128249eb8143a91db73/variables/variables' with Encoder_en/Transformer/TransformerEncodeFast/encoder/layer_4/ffn/conv1/kernel\n",
      "INFO:tensorflow:Initialize variable module/Encoder_en/Transformer/TransformerEncodeFast/encoder/layer_4/ffn/conv2/bias:0 from checkpoint b'/tmp/tfhub_modules/96e8f1d3d4d90ce86b2db128249eb8143a91db73/variables/variables' with Encoder_en/Transformer/TransformerEncodeFast/encoder/layer_4/ffn/conv2/bias\n",
      "INFO:tensorflow:Initialize variable module/Encoder_en/Transformer/TransformerEncodeFast/encoder/layer_4/ffn/conv2/kernel:0 from checkpoint b'/tmp/tfhub_modules/96e8f1d3d4d90ce86b2db128249eb8143a91db73/variables/variables' with Encoder_en/Transformer/TransformerEncodeFast/encoder/layer_4/ffn/conv2/kernel\n",
      "INFO:tensorflow:Initialize variable module/Encoder_en/Transformer/TransformerEncodeFast/encoder/layer_4/ffn/layer_prepostprocess/layer_norm/layer_norm_bias:0 from checkpoint b'/tmp/tfhub_modules/96e8f1d3d4d90ce86b2db128249eb8143a91db73/variables/variables' with Encoder_en/Transformer/TransformerEncodeFast/encoder/layer_4/ffn/layer_prepostprocess/layer_norm/layer_norm_bias\n",
      "INFO:tensorflow:Initialize variable module/Encoder_en/Transformer/TransformerEncodeFast/encoder/layer_4/ffn/layer_prepostprocess/layer_norm/layer_norm_scale:0 from checkpoint b'/tmp/tfhub_modules/96e8f1d3d4d90ce86b2db128249eb8143a91db73/variables/variables' with Encoder_en/Transformer/TransformerEncodeFast/encoder/layer_4/ffn/layer_prepostprocess/layer_norm/layer_norm_scale\n",
      "INFO:tensorflow:Initialize variable module/Encoder_en/Transformer/TransformerEncodeFast/encoder/layer_4/self_attention/layer_prepostprocess/layer_norm/layer_norm_bias:0 from checkpoint b'/tmp/tfhub_modules/96e8f1d3d4d90ce86b2db128249eb8143a91db73/variables/variables' with Encoder_en/Transformer/TransformerEncodeFast/encoder/layer_4/self_attention/layer_prepostprocess/layer_norm/layer_norm_bias\n",
      "INFO:tensorflow:Initialize variable module/Encoder_en/Transformer/TransformerEncodeFast/encoder/layer_4/self_attention/layer_prepostprocess/layer_norm/layer_norm_scale:0 from checkpoint b'/tmp/tfhub_modules/96e8f1d3d4d90ce86b2db128249eb8143a91db73/variables/variables' with Encoder_en/Transformer/TransformerEncodeFast/encoder/layer_4/self_attention/layer_prepostprocess/layer_norm/layer_norm_scale\n",
      "INFO:tensorflow:Initialize variable module/Encoder_en/Transformer/TransformerEncodeFast/encoder/layer_4/self_attention/multihead_attention/k/kernel:0 from checkpoint b'/tmp/tfhub_modules/96e8f1d3d4d90ce86b2db128249eb8143a91db73/variables/variables' with Encoder_en/Transformer/TransformerEncodeFast/encoder/layer_4/self_attention/multihead_attention/k/kernel\n",
      "INFO:tensorflow:Initialize variable module/Encoder_en/Transformer/TransformerEncodeFast/encoder/layer_4/self_attention/multihead_attention/output_transform/kernel:0 from checkpoint b'/tmp/tfhub_modules/96e8f1d3d4d90ce86b2db128249eb8143a91db73/variables/variables' with Encoder_en/Transformer/TransformerEncodeFast/encoder/layer_4/self_attention/multihead_attention/output_transform/kernel\n",
      "INFO:tensorflow:Initialize variable module/Encoder_en/Transformer/TransformerEncodeFast/encoder/layer_4/self_attention/multihead_attention/q/kernel:0 from checkpoint b'/tmp/tfhub_modules/96e8f1d3d4d90ce86b2db128249eb8143a91db73/variables/variables' with Encoder_en/Transformer/TransformerEncodeFast/encoder/layer_4/self_attention/multihead_attention/q/kernel\n",
      "INFO:tensorflow:Initialize variable module/Encoder_en/Transformer/TransformerEncodeFast/encoder/layer_4/self_attention/multihead_attention/v/kernel:0 from checkpoint b'/tmp/tfhub_modules/96e8f1d3d4d90ce86b2db128249eb8143a91db73/variables/variables' with Encoder_en/Transformer/TransformerEncodeFast/encoder/layer_4/self_attention/multihead_attention/v/kernel\n",
      "INFO:tensorflow:Initialize variable module/Encoder_en/Transformer/TransformerEncodeFast/encoder/layer_5/ffn/conv1/bias:0 from checkpoint b'/tmp/tfhub_modules/96e8f1d3d4d90ce86b2db128249eb8143a91db73/variables/variables' with Encoder_en/Transformer/TransformerEncodeFast/encoder/layer_5/ffn/conv1/bias\n",
      "INFO:tensorflow:Initialize variable module/Encoder_en/Transformer/TransformerEncodeFast/encoder/layer_5/ffn/conv1/kernel:0 from checkpoint b'/tmp/tfhub_modules/96e8f1d3d4d90ce86b2db128249eb8143a91db73/variables/variables' with Encoder_en/Transformer/TransformerEncodeFast/encoder/layer_5/ffn/conv1/kernel\n",
      "INFO:tensorflow:Initialize variable module/Encoder_en/Transformer/TransformerEncodeFast/encoder/layer_5/ffn/conv2/bias:0 from checkpoint b'/tmp/tfhub_modules/96e8f1d3d4d90ce86b2db128249eb8143a91db73/variables/variables' with Encoder_en/Transformer/TransformerEncodeFast/encoder/layer_5/ffn/conv2/bias\n",
      "INFO:tensorflow:Initialize variable module/Encoder_en/Transformer/TransformerEncodeFast/encoder/layer_5/ffn/conv2/kernel:0 from checkpoint b'/tmp/tfhub_modules/96e8f1d3d4d90ce86b2db128249eb8143a91db73/variables/variables' with Encoder_en/Transformer/TransformerEncodeFast/encoder/layer_5/ffn/conv2/kernel\n",
      "INFO:tensorflow:Initialize variable module/Encoder_en/Transformer/TransformerEncodeFast/encoder/layer_5/ffn/layer_prepostprocess/layer_norm/layer_norm_bias:0 from checkpoint b'/tmp/tfhub_modules/96e8f1d3d4d90ce86b2db128249eb8143a91db73/variables/variables' with Encoder_en/Transformer/TransformerEncodeFast/encoder/layer_5/ffn/layer_prepostprocess/layer_norm/layer_norm_bias\n",
      "INFO:tensorflow:Initialize variable module/Encoder_en/Transformer/TransformerEncodeFast/encoder/layer_5/ffn/layer_prepostprocess/layer_norm/layer_norm_scale:0 from checkpoint b'/tmp/tfhub_modules/96e8f1d3d4d90ce86b2db128249eb8143a91db73/variables/variables' with Encoder_en/Transformer/TransformerEncodeFast/encoder/layer_5/ffn/layer_prepostprocess/layer_norm/layer_norm_scale\n",
      "INFO:tensorflow:Initialize variable module/Encoder_en/Transformer/TransformerEncodeFast/encoder/layer_5/self_attention/layer_prepostprocess/layer_norm/layer_norm_bias:0 from checkpoint b'/tmp/tfhub_modules/96e8f1d3d4d90ce86b2db128249eb8143a91db73/variables/variables' with Encoder_en/Transformer/TransformerEncodeFast/encoder/layer_5/self_attention/layer_prepostprocess/layer_norm/layer_norm_bias\n",
      "INFO:tensorflow:Initialize variable module/Encoder_en/Transformer/TransformerEncodeFast/encoder/layer_5/self_attention/layer_prepostprocess/layer_norm/layer_norm_scale:0 from checkpoint b'/tmp/tfhub_modules/96e8f1d3d4d90ce86b2db128249eb8143a91db73/variables/variables' with Encoder_en/Transformer/TransformerEncodeFast/encoder/layer_5/self_attention/layer_prepostprocess/layer_norm/layer_norm_scale\n",
      "INFO:tensorflow:Initialize variable module/Encoder_en/Transformer/TransformerEncodeFast/encoder/layer_5/self_attention/multihead_attention/k/kernel:0 from checkpoint b'/tmp/tfhub_modules/96e8f1d3d4d90ce86b2db128249eb8143a91db73/variables/variables' with Encoder_en/Transformer/TransformerEncodeFast/encoder/layer_5/self_attention/multihead_attention/k/kernel\n",
      "INFO:tensorflow:Initialize variable module/Encoder_en/Transformer/TransformerEncodeFast/encoder/layer_5/self_attention/multihead_attention/output_transform/kernel:0 from checkpoint b'/tmp/tfhub_modules/96e8f1d3d4d90ce86b2db128249eb8143a91db73/variables/variables' with Encoder_en/Transformer/TransformerEncodeFast/encoder/layer_5/self_attention/multihead_attention/output_transform/kernel\n",
      "INFO:tensorflow:Initialize variable module/Encoder_en/Transformer/TransformerEncodeFast/encoder/layer_5/self_attention/multihead_attention/q/kernel:0 from checkpoint b'/tmp/tfhub_modules/96e8f1d3d4d90ce86b2db128249eb8143a91db73/variables/variables' with Encoder_en/Transformer/TransformerEncodeFast/encoder/layer_5/self_attention/multihead_attention/q/kernel\n",
      "INFO:tensorflow:Initialize variable module/Encoder_en/Transformer/TransformerEncodeFast/encoder/layer_5/self_attention/multihead_attention/v/kernel:0 from checkpoint b'/tmp/tfhub_modules/96e8f1d3d4d90ce86b2db128249eb8143a91db73/variables/variables' with Encoder_en/Transformer/TransformerEncodeFast/encoder/layer_5/self_attention/multihead_attention/v/kernel\n",
      "INFO:tensorflow:Initialize variable module/Encoder_en/Transformer/TransformerEncodeFast/encoder/layer_prepostprocess/layer_norm/layer_norm_bias:0 from checkpoint b'/tmp/tfhub_modules/96e8f1d3d4d90ce86b2db128249eb8143a91db73/variables/variables' with Encoder_en/Transformer/TransformerEncodeFast/encoder/layer_prepostprocess/layer_norm/layer_norm_bias\n",
      "INFO:tensorflow:Initialize variable module/Encoder_en/Transformer/TransformerEncodeFast/encoder/layer_prepostprocess/layer_norm/layer_norm_scale:0 from checkpoint b'/tmp/tfhub_modules/96e8f1d3d4d90ce86b2db128249eb8143a91db73/variables/variables' with Encoder_en/Transformer/TransformerEncodeFast/encoder/layer_prepostprocess/layer_norm/layer_norm_scale\n",
      "INFO:tensorflow:Initialize variable module/Encoder_en/Transformer/dense/bias:0 from checkpoint b'/tmp/tfhub_modules/96e8f1d3d4d90ce86b2db128249eb8143a91db73/variables/variables' with Encoder_en/Transformer/dense/bias\n",
      "INFO:tensorflow:Initialize variable module/Encoder_en/Transformer/dense/kernel:0 from checkpoint b'/tmp/tfhub_modules/96e8f1d3d4d90ce86b2db128249eb8143a91db73/variables/variables' with Encoder_en/Transformer/dense/kernel\n",
      "INFO:tensorflow:Initialize variable module/Encoder_en/hidden_layers/tanh_layer_0/dense/bias:0 from checkpoint b'/tmp/tfhub_modules/96e8f1d3d4d90ce86b2db128249eb8143a91db73/variables/variables' with Encoder_en/hidden_layers/tanh_layer_0/dense/bias\n",
      "INFO:tensorflow:Initialize variable module/Encoder_en/hidden_layers/tanh_layer_0/dense/kernel:0 from checkpoint b'/tmp/tfhub_modules/96e8f1d3d4d90ce86b2db128249eb8143a91db73/variables/variables' with Encoder_en/hidden_layers/tanh_layer_0/dense/kernel\n"
     ]
    }
   ],
   "source": [
    "##SETTING UP ENVIRONMENT VARIABLES\n",
    "os.environ[\"CUDA_DEVICE_ORDER\"] = \"PCI_BUS_ID\"\n",
    "os.environ[\"CUDA_VISIBLE_DEVICES\"] = \"0\"\n",
    "\n",
    "tf.reset_default_graph()\n",
    "with tf.device(\"/gpu:0\"):\n",
    "    get_embeddings = embed_func()"
   ]
  },
  {
   "cell_type": "markdown",
   "metadata": {},
   "source": [
    "### Obtaining the data for training and clustering"
   ]
  },
  {
   "cell_type": "code",
   "execution_count": 9,
   "metadata": {},
   "outputs": [],
   "source": [
    "##Using 10,000 samples of the dataset for clustering\n",
    "vectorized_data = []\n",
    "for _ in range(10):\n",
    "    texts = batcher.next_batch()\n",
    "    k = [d[0] for d in texts]\n",
    "    vectors = get_embeddings(k)\n",
    "    vectorized_data += list(zip(texts, vectors))"
   ]
  },
  {
   "cell_type": "code",
   "execution_count": 10,
   "metadata": {},
   "outputs": [],
   "source": [
    "texts, vectors = zip(*vectorized_data)\n",
    "array = np.array(vectors)"
   ]
  },
  {
   "cell_type": "markdown",
   "metadata": {},
   "source": [
    "### Pickling the data for future purposes"
   ]
  },
  {
   "cell_type": "code",
   "execution_count": 11,
   "metadata": {},
   "outputs": [],
   "source": [
    "## Dumping the vector in a pickle\n",
    "##10,000\n",
    "import pickle\n",
    "\n",
    "file_Name = \"USE_Vectors_Reddit_Titles_10k\"\n",
    "# open the file for writing\n",
    "fileObject = open(file_Name,'wb') \n",
    "\n",
    "# this writes the object a to the\n",
    "# file named 'USE_Vectors_Reddit_Titles_10k'\n",
    "pickle.dump(vectorized_data,fileObject)  \n",
    "\n",
    "# here we close the fileObject\n",
    "fileObject.close()"
   ]
  },
  {
   "cell_type": "code",
   "execution_count": 12,
   "metadata": {},
   "outputs": [],
   "source": [
    "##Loading the data into the vector\n",
    "#fileObject = open(file_Name,'r')  \n",
    "\n",
    "# load the object from the file into var b\n",
    "vectorized_data_10k = joblib.load('USE_Vectors_Reddit_Titles_10k') \n"
   ]
  },
  {
   "cell_type": "markdown",
   "metadata": {},
   "source": [
    "### Using Variance analysis to find the optimal number of features for PCA"
   ]
  },
  {
   "cell_type": "markdown",
   "metadata": {},
   "source": [
    "# 3. PERFORMING K-MEANS CLUSTERING TO OBTAIN CENTROIDS IN THE DATA"
   ]
  },
  {
   "cell_type": "code",
   "execution_count": 13,
   "metadata": {},
   "outputs": [
    {
     "data": {
      "text/plain": [
       "Text(0, 0.5, 'cumulative explained variance')"
      ]
     },
     "execution_count": 13,
     "metadata": {},
     "output_type": "execute_result"
    },
    {
     "data": {
      "image/png": "[encoded data removed]",
      "text/plain": [
       "<Figure size 432x288 with 1 Axes>"
      ]
     },
     "metadata": {
      "needs_background": "light"
     },
     "output_type": "display_data"
    }
   ],
   "source": [
    "pca = PCA().fit(vectors)\n",
    "plt.plot(np.cumsum(pca.explained_variance_ratio_))\n",
    "plt.xlabel('number of components')\n",
    "plt.ylabel('cumulative explained variance')\n",
    "\n",
    "#for i,value in enumerate(np.cumsum(pca.explained_variance_ratio_)):\n",
    "    #print(i,value)\n",
    "    \n",
    "#When components=100, variance is 0.953\n",
    "#reducing dimensions from 512 to 100"
   ]
  },
  {
   "cell_type": "code",
   "execution_count": 14,
   "metadata": {},
   "outputs": [],
   "source": [
    "from sklearn.decomposition import PCA"
   ]
  },
  {
   "cell_type": "code",
   "execution_count": 15,
   "metadata": {},
   "outputs": [
    {
     "name": "stdout",
     "output_type": "stream",
     "text": [
      "transformed shape: (10000, 100)\n"
     ]
    }
   ],
   "source": [
    "pca = PCA(n_components=100)\n",
    "pca.fit(vectors)\n",
    "X_pca = pca.transform(vectors)\n",
    "#print(\"original shape:   \", vectors.shape)\n",
    "print(\"transformed shape:\", X_pca.shape)"
   ]
  },
  {
   "cell_type": "code",
   "execution_count": 16,
   "metadata": {},
   "outputs": [],
   "source": [
    "array_PCA = np.array(X_pca)"
   ]
  },
  {
   "cell_type": "markdown",
   "metadata": {},
   "source": [
    "### KMeans Clustering"
   ]
  },
  {
   "cell_type": "code",
   "execution_count": 17,
   "metadata": {},
   "outputs": [
    {
     "data": {
      "image/png": "[encoded data removed]",
      "text/plain": [
       "<Figure size 432x288 with 1 Axes>"
      ]
     },
     "metadata": {
      "needs_background": "light"
     },
     "output_type": "display_data"
    }
   ],
   "source": [
    "cluster_counts = range(1,80,3)\n",
    "sse = {}\n",
    "for k in cluster_counts:\n",
    "    kmeans = KMeans(n_clusters=k, random_state=0).fit(array_PCA)\n",
    "    sse[k] = kmeans.inertia_\n",
    "    \n",
    "plt.figure()\n",
    "plt.plot(sorted(list(sse.keys())), sorted(list(sse.values()),reverse=True))\n",
    "plt.xlabel(\"Number of clusters\")\n",
    "plt.ylabel(\"SSE\")\n",
    "plt.show()"
   ]
  },
  {
   "cell_type": "markdown",
   "metadata": {},
   "source": [
    "## 50 clusters seems to be ideal because of the elbow"
   ]
  },
  {
   "cell_type": "code",
   "execution_count": 18,
   "metadata": {},
   "outputs": [],
   "source": [
    "##50 clusters\n",
    "kmeans = KMeans(n_clusters=50)\n",
    "scores = kmeans.fit_transform(array_PCA)\n",
    "clusters = np.argmin(scores, axis=1) #kmeans.labels_"
   ]
  },
  {
   "cell_type": "code",
   "execution_count": 36,
   "metadata": {},
   "outputs": [],
   "source": [
    "##Obtaining titles from 10k dataset\n",
    "titles=[i[0] for i in texts]"
   ]
  },
  {
   "cell_type": "code",
   "execution_count": 37,
   "metadata": {},
   "outputs": [],
   "source": [
    "## 10,000 topics being assigned to nearest cluster\n",
    "\n",
    "results_PCA = sorted(list(zip(titles, array_PCA, clusters)), key=lambda x: x[2])\n",
    "centroids_PCA = {}\n",
    "centroids1_PCA ={}\n",
    "for i in set(clusters):\n",
    "    filtered_results = [x for x in results_PCA if x[2] == i]\n",
    "    v = np.array([x[1] for x in filtered_results])\n",
    "    centroid_vector = np.mean(v, axis=0)\n",
    "    arr5 = cosine_similarity(v, np.expand_dims(centroid_vector, axis=0))\n",
    "    \n",
    "    \n",
    "    flat_list = [item for sublist in arr5 for item in sublist]\n",
    "    arr6 = np.array(flat_list)\n",
    "    \n",
    "    x = arr6.argsort()[:][::-1]\n",
    "    merged = list(itertools.chain(*arr5[x].tolist()))\n",
    "    top = [filtered_results[i][0] for i in x.tolist()]\n",
    "    \n",
    "    closest = np.argmax(cosine_similarity(v, np.expand_dims(centroid_vector, axis=0)))   \n",
    "    \n",
    "    centroid_text_PCA = filtered_results[closest][0]\n",
    "    centroid_text1_PCA = [filtered_results[i][0] for i in x.tolist()]\n",
    "    centroids_PCA[i] = centroid_text_PCA\n",
    "    centroids1_PCA[i] = centroid_text1_PCA\n",
    "\n",
    "\n",
    "full_results_PCA = [(x[0], x[2], centroids_PCA[x[2]]) for x in results_PCA]\n",
    "\n",
    "full_results1_PCA = [(x[0], x[2], centroids1_PCA[x[2]]) for x in results_PCA]"
   ]
  },
  {
   "cell_type": "code",
   "execution_count": 39,
   "metadata": {},
   "outputs": [
    {
     "data": {
      "text/plain": [
       "('Recurring charges on a credit card a good way to build credit?',\n",
       " array([-0.27389804,  0.0997877 , -0.18711573,  0.23796724,  0.25611389,\n",
       "         0.01492043, -0.04756873,  0.12865182,  0.11491567,  0.02026715,\n",
       "         0.16946005, -0.16855923, -0.07575393, -0.04003848, -0.15298088,\n",
       "         0.03256316,  0.02595029,  0.00712502,  0.01802214, -0.1183504 ,\n",
       "         0.06136236, -0.02469423,  0.04911191,  0.06829851, -0.00539059,\n",
       "        -0.00743161, -0.08561792, -0.0513623 ,  0.01821242, -0.01023535,\n",
       "        -0.05436416, -0.00487805, -0.09925861, -0.05904886,  0.01302952,\n",
       "        -0.01246029, -0.03604169, -0.02498457,  0.0171837 , -0.03469275,\n",
       "         0.01141925,  0.00756048,  0.0518228 , -0.00387528, -0.02401937,\n",
       "        -0.02177563,  0.04945109, -0.01899477, -0.00933796,  0.02580747,\n",
       "         0.02151225, -0.01314174, -0.01909335, -0.00600699,  0.034835  ,\n",
       "         0.02205577, -0.02466527,  0.02639822,  0.00796099,  0.06320342,\n",
       "         0.03698962, -0.00783547,  0.0226243 , -0.01388474,  0.04063756,\n",
       "         0.05760997,  0.04958816, -0.04248481, -0.00077278,  0.02230955,\n",
       "        -0.00988809, -0.00112809,  0.00516777, -0.0239396 ,  0.04968278,\n",
       "        -0.03823376,  0.00133421, -0.02543052, -0.00372616, -0.0408041 ,\n",
       "        -0.0059346 , -0.07684383, -0.01126584,  0.01769553, -0.01892796,\n",
       "         0.01027573, -0.00677413, -0.02915179, -0.01133021, -0.05135981,\n",
       "        -0.00144196,  0.0123702 , -0.0019569 ,  0.00649184,  0.0119148 ,\n",
       "        -0.02320475, -0.00425179,  0.00065278,  0.01029063, -0.0068985 ]),\n",
       " 49)"
      ]
     },
     "execution_count": 39,
     "metadata": {},
     "output_type": "execute_result"
    }
   ],
   "source": [
    "filtered_results[0]"
   ]
  },
  {
   "cell_type": "code",
   "execution_count": 40,
   "metadata": {},
   "outputs": [
    {
     "data": {
      "text/plain": [
       "276"
      ]
     },
     "execution_count": 40,
     "metadata": {},
     "output_type": "execute_result"
    }
   ],
   "source": [
    "#len(results[9][1])\n",
    "#len(v)\n",
    "filtered_results_PCA = [x for x in results_PCA if x[2] == 0]\n",
    "len(filtered_results_PCA)"
   ]
  },
  {
   "cell_type": "code",
   "execution_count": 41,
   "metadata": {},
   "outputs": [],
   "source": [
    "corpus=[]\n",
    "for i in range(0,50):\n",
    "    x=''\n",
    "    for j in centroids1_PCA[i]:\n",
    "        x= j+' '+x\n",
    "    corpus.append(x)    "
   ]
  },
  {
   "cell_type": "code",
   "execution_count": 57,
   "metadata": {},
   "outputs": [
    {
     "data": {
      "text/plain": [
       "50"
      ]
     },
     "execution_count": 57,
     "metadata": {},
     "output_type": "execute_result"
    }
   ],
   "source": [
    "len(corpus)"
   ]
  },
  {
   "cell_type": "code",
   "execution_count": 46,
   "metadata": {},
   "outputs": [],
   "source": [
    "##Corpus1 is the list of all titles ~300k in the dataset \n",
    "##Then perform a tfidf on the cluster and corpus1 to find important words\n",
    "\n",
    "vectorizer1 = TfidfVectorizer(stop_words=stop_words)\n",
    "tfidf1 = vectorizer1.fit(n.asarray(corpus))"
   ]
  },
  {
   "cell_type": "markdown",
   "metadata": {},
   "source": [
    "### OBTAINING TESTING DATASET"
   ]
  },
  {
   "cell_type": "code",
   "execution_count": 137,
   "metadata": {},
   "outputs": [
    {
     "data": {
      "text/plain": [
       "1000"
      ]
     },
     "execution_count": 137,
     "metadata": {},
     "output_type": "execute_result"
    }
   ],
   "source": [
    "len(unlabelled_data_pca)"
   ]
  },
  {
   "cell_type": "code",
   "execution_count": null,
   "metadata": {},
   "outputs": [],
   "source": [
    "##Obtaining the test data for title labeling to appropriate centroids\n",
    "##We will use two methods\n",
    "##Vectorize using tfidf\n",
    "##Vectorize using USE\n",
    "vectorized_data_full = []\n",
    "for _ in range(300):\n",
    "    texts_full = batcher.next_batch()\n",
    "    k = [d[0] for d in texts_full]\n",
    "    vectors_full= get_embeddings(k)\n",
    "    vectorized_data_full += list(zip(texts_full,vectors_full))\n",
    "unlabelled_data_pca = pca.transform(vectors_full)"
   ]
  },
  {
   "cell_type": "code",
   "execution_count": 48,
   "metadata": {},
   "outputs": [],
   "source": [
    "unlabelled_data_pca = pca.transform(vectors_full)\n",
    "#print(\"original shape:   \", vectors.shape)\n",
    "#print(\"transformed shape:\", unlabelled_data_pca.shape)"
   ]
  },
  {
   "cell_type": "code",
   "execution_count": 571,
   "metadata": {},
   "outputs": [],
   "source": [
    "## Dumping the vector in a pickle\n",
    "\n",
    "len(vectorized_full)\n",
    "\n",
    "import pickle\n",
    "\n",
    "file_Name = \"USE_Vectors_Reddit_Titles\"\n",
    "\n",
    "# open the file for writing\n",
    "fileObject = open(file_Name,'wb') \n",
    "\n",
    "# this writes the object a to the\n",
    "# file named 'testfile'\n",
    "pickle.dump(vectorized_data_full,fileObject)   \n",
    "\n",
    "# here we close the fileObject\n",
    "fileObject.close()"
   ]
  },
  {
   "cell_type": "code",
   "execution_count": 572,
   "metadata": {},
   "outputs": [
    {
     "data": {
      "text/plain": [
       "10000"
      ]
     },
     "execution_count": 572,
     "metadata": {},
     "output_type": "execute_result"
    }
   ],
   "source": [
    "##Loading the data into the vector\n",
    "\n",
    "from sklearn.externals import joblib\n",
    "#fileObject = open(file_Name,'r')  \n",
    "\n",
    "# load the object from the file into var b\n",
    "b = joblib.load('USE_Vectors_Reddit_Titles') \n",
    "\n",
    "\n",
    "len(b)"
   ]
  },
  {
   "cell_type": "code",
   "execution_count": 49,
   "metadata": {},
   "outputs": [],
   "source": [
    "from sklearn.feature_extraction.text import CountVectorizer,TfidfVectorizer\n",
    "from sklearn.feature_extraction import text\n",
    "stop_words = text.ENGLISH_STOP_WORDS\n",
    "\n",
    "def get_important_words(num, tfidf, max_n=10):\n",
    "    response = tfidf.transform([\" \".join(centroids1_PCA[num])])\n",
    "    feature_array = np.array(tfidf.get_feature_names())\n",
    "    tfidf_sorting = np.argsort(response.toarray()).flatten()[::-1]\n",
    "    top_n = feature_array[tfidf_sorting][:max_n]\n",
    "    return top_n\n",
    "\n",
    "def get_frequent_words(num, max_n=10):\n",
    "    stop_words = stopwords.words('english') + list(punctuation)\n",
    "    text = [x for x in corpus[num].split() if x not in stop_words]\n",
    "    counter = Counter(text)\n",
    "    return list(zip(*sorted([(word, ct) for word, ct in counter.items()], key=lambda x: x[1], reverse=True)))[0][:max_n]\n",
    "\n",
    "\n",
    "def top_titles_per_cluster(num,max_n=10):\n",
    "    return list(centroids1_PCA[num][:max_n])\n"
   ]
  },
  {
   "cell_type": "code",
   "execution_count": 50,
   "metadata": {},
   "outputs": [],
   "source": [
    "def ngram_func(num):\n",
    "    str=''\n",
    "    for i in centroids1_PCA[num]:\n",
    "        str=str+i\n",
    "    # first get individual words\n",
    "    tokenized = str.split()\n",
    "\n",
    "    # and get a list of all the bi-grams\n",
    "    enBigrams = ngrams(tokenized, 2)\n",
    "\n",
    "    # get the frequency of each bigram in our corpus\n",
    "    enBigramFreq = collections.Counter(enBigrams)\n",
    "    \n",
    "    # and get a list of all the bi-grams\n",
    "    enTrigrams = ngrams(tokenized, 3)\n",
    "\n",
    "    # get the frequency of each bigram in our corpus\n",
    "    enTrigramFreq = collections.Counter(enTrigrams)\n",
    "    \n",
    "    ## get the most common bigrams\n",
    "    return enBigramFreq.most_common(15),2*'\\n',enTrigramFreq.most_common(15)\n"
   ]
  },
  {
   "cell_type": "code",
   "execution_count": 57,
   "metadata": {},
   "outputs": [
    {
     "name": "stdout",
     "output_type": "stream",
     "text": [
      "Important Words\n",
      "['irs' 'taxes' 'tax' 'employer' 'w2' 'return' 'owe' 'filed' 'refund'\n",
      " 'returns'] \n",
      "\n",
      "Frequent Words\n",
      "('I', 'tax', 'IRS', 'taxes', 'My', 'What', 'owe', 'How', 'employer', 'received') \n",
      "\n",
      "Bigrams & Trigrams\n",
      "([(('do', 'I'), 15), (('I', 'owe'), 9), (('to', 'the'), 6), (('the', 'IRS'), 6), (('as', 'a'), 6), (('to', 'get'), 5), (('on', 'my'), 5), (('received', 'a'), 5), (('should', 'I'), 5), (('trying', 'to'), 5), (('my', 'taxes'), 5), (('a', 'tax'), 5), (('found', 'out'), 4), (('says', 'I'), 4), (('file', 'my'), 4)], '\\n\\n', [(('says', 'I', 'owe'), 4), (('How', 'do', 'I'), 4), (('to', 'file', 'my'), 3), (('What', 'should', 'I'), 3), (('do', 'I', 'do'), 3), (('What', 'do', 'I'), 3), (('I', 'go', 'about'), 3), ((\"I'm\", 'not', 'sure'), 2), (('filed', 'my', 'taxes'), 2), (('I', \"don't\", 'know'), 2), ((\"didn't\", 'tell', 'me'), 2), (('to', 'claim', 'me'), 2), (('but', 'I', 'think'), 2), (('as', 'a', 'dependent'), 2), (('know', 'what', 'to'), 2)]) \n",
      "\n",
      "Top Titles Per Cluster\n"
     ]
    },
    {
     "data": {
      "text/plain": [
       "[\"Already filed my taxes but my employer didn't fill out my W2 properly? What now?\",\n",
       " \"My employer messed up our W-2's and sent out a corrected one but I've already filed my taxes. What should I do?\",\n",
       " 'IRS wont give me my refund',\n",
       " 'My parents wrongly claimed as a dependent on their taxes and now my e-file tax return was rejected. What do I do?',\n",
       " 'Tax return still not processed after 60 days',\n",
       " 'Completely fudged W4 what now?',\n",
       " 'CP2000 -- IRS says I owe $1300, maybe because of an incomplete 1098-T?',\n",
       " '[RI] I e-filed my returns using TurboTax Online, but my state claims that they still need a copy of my W-2?',\n",
       " 'W2 Tax Refund Issue?',\n",
       " 'IRS is claiming I owe a lot of money']"
      ]
     },
     "execution_count": 57,
     "metadata": {},
     "output_type": "execute_result"
    }
   ],
   "source": [
    "k=3\n",
    "\n",
    "\n",
    "print('Important Words')\n",
    "print(get_important_words(k,tfidf1),'\\n')\n",
    "\n",
    "\n",
    "print('Frequent Words')\n",
    "print(get_frequent_words(k), '\\n')\n",
    "\n",
    "print('Bigrams & Trigrams')\n",
    "print(ngram_func(k),'\\n')\n",
    "\n",
    "\n",
    "print('Top Titles Per Cluster')\n",
    "top_titles_per_cluster(k)"
   ]
  },
  {
   "cell_type": "code",
   "execution_count": 53,
   "metadata": {},
   "outputs": [],
   "source": [
    "important_words=[]\n",
    "frequent_words=[]\n",
    "ngram_words=[]\n",
    "top_titles=[]\n",
    "\n",
    "for k in range(0,50):\n",
    "    important_words.append(get_important_words(k,tfidf1))\n",
    "    frequent_words.append(get_frequent_words(k))\n",
    "    ngram_words.append(ngram_func(k))\n",
    "    top_titles.append(top_titles_per_cluster(k))\n",
    "    \n",
    "    "
   ]
  },
  {
   "cell_type": "code",
   "execution_count": 58,
   "metadata": {},
   "outputs": [],
   "source": [
    "centroid_analysis = pd.DataFrame(list(zip(important_words,frequent_words,ngram_words,top_titles)), columns=['important_words', 'frequent_words','ngram_words','top_titles'])   "
   ]
  },
  {
   "cell_type": "code",
   "execution_count": 59,
   "metadata": {},
   "outputs": [],
   "source": [
    "centroid_analysis['Centroid_Number'] = range(0, len(centroid_analysis))"
   ]
  },
  {
   "cell_type": "code",
   "execution_count": 60,
   "metadata": {},
   "outputs": [
    {
     "data": {
      "text/html": [
       "<div>\n",
       "<style scoped>\n",
       "    .dataframe tbody tr th:only-of-type {\n",
       "        vertical-align: middle;\n",
       "    }\n",
       "\n",
       "    .dataframe tbody tr th {\n",
       "        vertical-align: top;\n",
       "    }\n",
       "\n",
       "    .dataframe thead th {\n",
       "        text-align: right;\n",
       "    }\n",
       "</style>\n",
       "<table border=\"1\" class=\"dataframe\">\n",
       "  <thead>\n",
       "    <tr style=\"text-align: right;\">\n",
       "      <th></th>\n",
       "      <th>important_words</th>\n",
       "      <th>frequent_words</th>\n",
       "      <th>ngram_words</th>\n",
       "      <th>top_titles</th>\n",
       "      <th>Centroid_Number</th>\n",
       "    </tr>\n",
       "  </thead>\n",
       "  <tbody>\n",
       "    <tr>\n",
       "      <th>0</th>\n",
       "      <td>[401k, roth, ira, 401, retirement, contributio...</td>\n",
       "      <td>(401k, Roth, IRA, Retirement, vs, 401K, 401(k)...</td>\n",
       "      <td>([(('Roth', 'IRA'), 12), (('401k', 'to'), 5), ...</td>\n",
       "      <td>[Traditional 401k and Roth 401k at same time?,...</td>\n",
       "      <td>0</td>\n",
       "    </tr>\n",
       "    <tr>\n",
       "      <th>1</th>\n",
       "      <td>[budget, budgeting, help, savings, advice, sav...</td>\n",
       "      <td>(I, budget, How, help, money, savings, need, a...</td>\n",
       "      <td>([(('of', 'my'), 9), (('how', 'to'), 9), (('to...</td>\n",
       "      <td>[How should I make a weekly/monthly budget?, B...</td>\n",
       "      <td>1</td>\n",
       "    </tr>\n",
       "    <tr>\n",
       "      <th>2</th>\n",
       "      <td>[income, cost, money, living, live, year, rati...</td>\n",
       "      <td>(How, much, I, money, year, Is, income, What, ...</td>\n",
       "      <td>([(('do', 'you'), 9), (('should', 'I'), 9), ((...</td>\n",
       "      <td>[What's the least amount of money to live comf...</td>\n",
       "      <td>2</td>\n",
       "    </tr>\n",
       "    <tr>\n",
       "      <th>3</th>\n",
       "      <td>[irs, taxes, tax, employer, w2, return, owe, f...</td>\n",
       "      <td>(I, tax, IRS, taxes, My, What, owe, How, emplo...</td>\n",
       "      <td>([(('do', 'I'), 15), (('I', 'owe'), 9), (('to'...</td>\n",
       "      <td>[Already filed my taxes but my employer didn't...</td>\n",
       "      <td>3</td>\n",
       "    </tr>\n",
       "    <tr>\n",
       "      <th>4</th>\n",
       "      <td>[mother, mom, wife, help, father, debt, daught...</td>\n",
       "      <td>(I, My, mother, help, What, How, mom, wife, de...</td>\n",
       "      <td>([(('and', 'I'), 13), (('trying', 'to'), 11), ...</td>\n",
       "      <td>[How do I prevent my mother in law from ruinin...</td>\n",
       "      <td>4</td>\n",
       "    </tr>\n",
       "  </tbody>\n",
       "</table>\n",
       "</div>"
      ],
      "text/plain": [
       "                                     important_words  \\\n",
       "0  [401k, roth, ira, 401, retirement, contributio...   \n",
       "1  [budget, budgeting, help, savings, advice, sav...   \n",
       "2  [income, cost, money, living, live, year, rati...   \n",
       "3  [irs, taxes, tax, employer, w2, return, owe, f...   \n",
       "4  [mother, mom, wife, help, father, debt, daught...   \n",
       "\n",
       "                                      frequent_words  \\\n",
       "0  (401k, Roth, IRA, Retirement, vs, 401K, 401(k)...   \n",
       "1  (I, budget, How, help, money, savings, need, a...   \n",
       "2  (How, much, I, money, year, Is, income, What, ...   \n",
       "3  (I, tax, IRS, taxes, My, What, owe, How, emplo...   \n",
       "4  (I, My, mother, help, What, How, mom, wife, de...   \n",
       "\n",
       "                                         ngram_words  \\\n",
       "0  ([(('Roth', 'IRA'), 12), (('401k', 'to'), 5), ...   \n",
       "1  ([(('of', 'my'), 9), (('how', 'to'), 9), (('to...   \n",
       "2  ([(('do', 'you'), 9), (('should', 'I'), 9), ((...   \n",
       "3  ([(('do', 'I'), 15), (('I', 'owe'), 9), (('to'...   \n",
       "4  ([(('and', 'I'), 13), (('trying', 'to'), 11), ...   \n",
       "\n",
       "                                          top_titles  Centroid_Number  \n",
       "0  [Traditional 401k and Roth 401k at same time?,...                0  \n",
       "1  [How should I make a weekly/monthly budget?, B...                1  \n",
       "2  [What's the least amount of money to live comf...                2  \n",
       "3  [Already filed my taxes but my employer didn't...                3  \n",
       "4  [How do I prevent my mother in law from ruinin...                4  "
      ]
     },
     "execution_count": 60,
     "metadata": {},
     "output_type": "execute_result"
    }
   ],
   "source": [
    "centroid_analysis.iloc[0:5]"
   ]
  },
  {
   "cell_type": "code",
   "execution_count": 603,
   "metadata": {},
   "outputs": [],
   "source": [
    "y = [x[1] for x in vectorized_data_full[0:10000]]"
   ]
  },
  {
   "cell_type": "code",
   "execution_count": 622,
   "metadata": {},
   "outputs": [
    {
     "data": {
      "text/plain": [
       "10000"
      ]
     },
     "execution_count": 622,
     "metadata": {},
     "output_type": "execute_result"
    }
   ],
   "source": [
    "len(titles_list)"
   ]
  },
  {
   "cell_type": "code",
   "execution_count": 62,
   "metadata": {},
   "outputs": [],
   "source": [
    "centroid_docs=[]\n",
    "for i in range(0,49):\n",
    "    strs=''\n",
    "    for j in centroids1_PCA[i]:\n",
    "        strs=strs+' '+j\n",
    "    centroid_docs.append(strs)"
   ]
  },
  {
   "cell_type": "markdown",
   "metadata": {},
   "source": [
    "# 4. Performing a tfidf to label the titles with centroids"
   ]
  },
  {
   "cell_type": "code",
   "execution_count": 63,
   "metadata": {},
   "outputs": [],
   "source": [
    "tfidf_vectorizer = TfidfVectorizer(stop_words = stop_words)\n",
    "tfidf_matrix_train = tfidf_vectorizer.fit_transform(centroid_docs)\n",
    "centroids=[]"
   ]
  },
  {
   "cell_type": "code",
   "execution_count": 71,
   "metadata": {},
   "outputs": [],
   "source": [
    "### Labeling the test data with nearest centroids\n",
    "##Step 1\n",
    "centroids_labels=[]\n",
    "def centroid_label_process(k):\n",
    "    tfidf_matrix_test = tfidf_vectorizer.transform(titles[k:k+1])\n",
    "    c=cosine_similarity(tfidf_matrix_test, tfidf_matrix_train)\n",
    "    centroids_labels.append(np.argmax(c))"
   ]
  },
  {
   "cell_type": "code",
   "execution_count": 72,
   "metadata": {},
   "outputs": [],
   "source": [
    "#Step 2\n",
    "for i in range(len(titles)):\n",
    "    centroid_label_process(i)"
   ]
  },
  {
   "cell_type": "code",
   "execution_count": 74,
   "metadata": {},
   "outputs": [],
   "source": [
    "data_centroids = list(zip(titles,centroids_labels))"
   ]
  },
  {
   "cell_type": "code",
   "execution_count": 75,
   "metadata": {},
   "outputs": [],
   "source": [
    "u = [(x[0], x[1])for x in data_centroids]"
   ]
  },
  {
   "cell_type": "code",
   "execution_count": 76,
   "metadata": {},
   "outputs": [],
   "source": [
    "df = pd.DataFrame(u, columns=['titles', 'centroid'])"
   ]
  },
  {
   "cell_type": "code",
   "execution_count": 77,
   "metadata": {},
   "outputs": [
    {
     "data": {
      "text/plain": [
       "(10000, 2)"
      ]
     },
     "execution_count": 77,
     "metadata": {},
     "output_type": "execute_result"
    }
   ],
   "source": [
    "df.shape"
   ]
  },
  {
   "cell_type": "markdown",
   "metadata": {},
   "source": [
    "### TFIDF works only when there are keywords in query present in the clusters (eg.check for \"Toyota Problems\" and see the different clusters identified by USE and TFIDF vectors)"
   ]
  },
  {
   "cell_type": "code",
   "execution_count": 85,
   "metadata": {},
   "outputs": [
    {
     "data": {
      "text/html": [
       "<div>\n",
       "<style scoped>\n",
       "    .dataframe tbody tr th:only-of-type {\n",
       "        vertical-align: middle;\n",
       "    }\n",
       "\n",
       "    .dataframe tbody tr th {\n",
       "        vertical-align: top;\n",
       "    }\n",
       "\n",
       "    .dataframe thead th {\n",
       "        text-align: right;\n",
       "    }\n",
       "</style>\n",
       "<table border=\"1\" class=\"dataframe\">\n",
       "  <thead>\n",
       "    <tr style=\"text-align: right;\">\n",
       "      <th></th>\n",
       "      <th>titles</th>\n",
       "      <th>centroid</th>\n",
       "    </tr>\n",
       "  </thead>\n",
       "  <tbody>\n",
       "    <tr>\n",
       "      <th>0</th>\n",
       "      <td>Couples' Retirement Savings by age 30</td>\n",
       "      <td>7</td>\n",
       "    </tr>\n",
       "    <tr>\n",
       "      <th>1</th>\n",
       "      <td>Tax question: claiming a gift</td>\n",
       "      <td>41</td>\n",
       "    </tr>\n",
       "    <tr>\n",
       "      <th>2</th>\n",
       "      <td>What could I buy with a $1000 in a Fidelity Ro...</td>\n",
       "      <td>26</td>\n",
       "    </tr>\n",
       "    <tr>\n",
       "      <th>3</th>\n",
       "      <td>I made a mistake during an initial job intervi...</td>\n",
       "      <td>44</td>\n",
       "    </tr>\n",
       "    <tr>\n",
       "      <th>4</th>\n",
       "      <td>Advice for selling my rental property (taxes a...</td>\n",
       "      <td>41</td>\n",
       "    </tr>\n",
       "    <tr>\n",
       "      <th>5</th>\n",
       "      <td>Lost wallet on trip to Thailand</td>\n",
       "      <td>6</td>\n",
       "    </tr>\n",
       "    <tr>\n",
       "      <th>6</th>\n",
       "      <td>Is it better to pay off your cc balance before...</td>\n",
       "      <td>9</td>\n",
       "    </tr>\n",
       "    <tr>\n",
       "      <th>7</th>\n",
       "      <td>Getting out of debt and moving on</td>\n",
       "      <td>21</td>\n",
       "    </tr>\n",
       "    <tr>\n",
       "      <th>8</th>\n",
       "      <td>Best Way to Build Credit with $4000</td>\n",
       "      <td>43</td>\n",
       "    </tr>\n",
       "    <tr>\n",
       "      <th>9</th>\n",
       "      <td>Looking to buy a $33k car quite soon, but also...</td>\n",
       "      <td>45</td>\n",
       "    </tr>\n",
       "    <tr>\n",
       "      <th>10</th>\n",
       "      <td>Advice on current life situation</td>\n",
       "      <td>8</td>\n",
       "    </tr>\n",
       "    <tr>\n",
       "      <th>11</th>\n",
       "      <td>Refi questions</td>\n",
       "      <td>24</td>\n",
       "    </tr>\n",
       "    <tr>\n",
       "      <th>12</th>\n",
       "      <td>Thanks guys/gals. Wrote a goodwill letter and ...</td>\n",
       "      <td>6</td>\n",
       "    </tr>\n",
       "    <tr>\n",
       "      <th>13</th>\n",
       "      <td>Am I crazy for paying $1000 a month for rent a...</td>\n",
       "      <td>10</td>\n",
       "    </tr>\n",
       "    <tr>\n",
       "      <th>14</th>\n",
       "      <td>Acorns - effective investing?</td>\n",
       "      <td>12</td>\n",
       "    </tr>\n",
       "    <tr>\n",
       "      <th>15</th>\n",
       "      <td>Is there any place that will grant me a loan w...</td>\n",
       "      <td>10</td>\n",
       "    </tr>\n",
       "    <tr>\n",
       "      <th>16</th>\n",
       "      <td>18 years old and clueless about financial resp...</td>\n",
       "      <td>11</td>\n",
       "    </tr>\n",
       "    <tr>\n",
       "      <th>17</th>\n",
       "      <td>I was ripped off buying concert tickets on cra...</td>\n",
       "      <td>6</td>\n",
       "    </tr>\n",
       "    <tr>\n",
       "      <th>18</th>\n",
       "      <td>Need help deciding what vehicle to keep</td>\n",
       "      <td>47</td>\n",
       "    </tr>\n",
       "    <tr>\n",
       "      <th>19</th>\n",
       "      <td>A question regarding value of retirement savin...</td>\n",
       "      <td>7</td>\n",
       "    </tr>\n",
       "  </tbody>\n",
       "</table>\n",
       "</div>"
      ],
      "text/plain": [
       "                                               titles  centroid\n",
       "0               Couples' Retirement Savings by age 30         7\n",
       "1                       Tax question: claiming a gift        41\n",
       "2   What could I buy with a $1000 in a Fidelity Ro...        26\n",
       "3   I made a mistake during an initial job intervi...        44\n",
       "4   Advice for selling my rental property (taxes a...        41\n",
       "5                     Lost wallet on trip to Thailand         6\n",
       "6   Is it better to pay off your cc balance before...         9\n",
       "7                   Getting out of debt and moving on        21\n",
       "8                 Best Way to Build Credit with $4000        43\n",
       "9   Looking to buy a $33k car quite soon, but also...        45\n",
       "10                   Advice on current life situation         8\n",
       "11                                     Refi questions        24\n",
       "12  Thanks guys/gals. Wrote a goodwill letter and ...         6\n",
       "13  Am I crazy for paying $1000 a month for rent a...        10\n",
       "14                      Acorns - effective investing?        12\n",
       "15  Is there any place that will grant me a loan w...        10\n",
       "16  18 years old and clueless about financial resp...        11\n",
       "17  I was ripped off buying concert tickets on cra...         6\n",
       "18            Need help deciding what vehicle to keep        47\n",
       "19  A question regarding value of retirement savin...         7"
      ]
     },
     "execution_count": 85,
     "metadata": {},
     "output_type": "execute_result"
    }
   ],
   "source": [
    "df[0:20]"
   ]
  },
  {
   "cell_type": "markdown",
   "metadata": {},
   "source": [
    "# 5. The Real Test of Predictions - USE vs TFIDF"
   ]
  },
  {
   "cell_type": "code",
   "execution_count": 1,
   "metadata": {},
   "outputs": [
    {
     "ename": "NameError",
     "evalue": "name 'tfidf_vectorizer' is not defined",
     "output_type": "error",
     "traceback": [
      "\u001b[0;31m---------------------------------------------------------------------------\u001b[0m",
      "\u001b[0;31mNameError\u001b[0m                                 Traceback (most recent call last)",
      "\u001b[0;32m<ipython-input-1-f69f3be2c88f>\u001b[0m in \u001b[0;36m<module>\u001b[0;34m()\u001b[0m\n\u001b[1;32m      1\u001b[0m \u001b[0;31m##Performing a test on a new query\u001b[0m\u001b[0;34m\u001b[0m\u001b[0;34m\u001b[0m\u001b[0m\n\u001b[1;32m      2\u001b[0m \u001b[0md\u001b[0m\u001b[0;34m=\u001b[0m\u001b[0;34m[\u001b[0m\u001b[0;34m'toyota problems?'\u001b[0m\u001b[0;34m]\u001b[0m\u001b[0;34m\u001b[0m\u001b[0m\n\u001b[0;32m----> 3\u001b[0;31m \u001b[0mtfidf_matrix_test\u001b[0m \u001b[0;34m=\u001b[0m \u001b[0mtfidf_vectorizer\u001b[0m\u001b[0;34m.\u001b[0m\u001b[0mtransform\u001b[0m\u001b[0;34m(\u001b[0m\u001b[0md\u001b[0m\u001b[0;34m)\u001b[0m\u001b[0;34m\u001b[0m\u001b[0m\n\u001b[0m\u001b[1;32m      4\u001b[0m \u001b[0mc\u001b[0m\u001b[0;34m=\u001b[0m\u001b[0mcosine_similarity\u001b[0m\u001b[0;34m(\u001b[0m\u001b[0mtfidf_matrix_test\u001b[0m\u001b[0;34m,\u001b[0m \u001b[0mtfidf_matrix_train\u001b[0m\u001b[0;34m)\u001b[0m\u001b[0;34m\u001b[0m\u001b[0m\n\u001b[1;32m      5\u001b[0m \u001b[0mprint\u001b[0m\u001b[0;34m(\u001b[0m\u001b[0mnp\u001b[0m\u001b[0;34m.\u001b[0m\u001b[0margmax\u001b[0m\u001b[0;34m(\u001b[0m\u001b[0mc\u001b[0m\u001b[0;34m)\u001b[0m\u001b[0;34m)\u001b[0m\u001b[0;34m\u001b[0m\u001b[0m\n",
      "\u001b[0;31mNameError\u001b[0m: name 'tfidf_vectorizer' is not defined"
     ]
    }
   ],
   "source": [
    "##Performing a test on a new query\n",
    "d=['toyota problems?']\n",
    "tfidf_matrix_test = tfidf_vectorizer.transform(d)\n",
    "c=cosine_similarity(tfidf_matrix_test, tfidf_matrix_train)\n",
    "print(np.argmax(c))\n",
    "print(centroids1_PCA[39])"
   ]
  },
  {
   "cell_type": "markdown",
   "metadata": {},
   "source": [
    "### Using Universal Sentence Encoders to predict new queries"
   ]
  },
  {
   "cell_type": "code",
   "execution_count": 95,
   "metadata": {},
   "outputs": [],
   "source": [
    "## Performing Cosine Similarity between unlabelled data and kmeans cluster\n",
    "c=cosine_similarity(unlabelled_data_pca, kmeans.cluster_centers_)"
   ]
  },
  {
   "cell_type": "code",
   "execution_count": 96,
   "metadata": {},
   "outputs": [
    {
     "data": {
      "text/plain": [
       "16"
      ]
     },
     "execution_count": 96,
     "metadata": {},
     "output_type": "execute_result"
    }
   ],
   "source": [
    "np.argmax(c[33])"
   ]
  },
  {
   "cell_type": "code",
   "execution_count": 97,
   "metadata": {},
   "outputs": [
    {
     "data": {
      "text/plain": [
       "('I have 2,000 how should I invest it.',\n",
       " 'EDIT: Besides this money I have a stable income so essentially this is \"fun money.\" \\n \\nI\\'m 19 going on my third year at a UC. I\\'m an electrical engineering undergraduate who\\'s been really shaky with finances in the past to the point where I never saved any money but now I have a chance to due to a generous gift. Thank you! ')"
      ]
     },
     "execution_count": 97,
     "metadata": {},
     "output_type": "execute_result"
    }
   ],
   "source": [
    "vectorized_data_full[33][0]"
   ]
  },
  {
   "cell_type": "code",
   "execution_count": 98,
   "metadata": {},
   "outputs": [
    {
     "data": {
      "text/plain": [
       "['Want to get serious about investing, need advice.',\n",
       " 'I have $50k to invest for the long-term... please let me know the best allocation and diversification advice?',\n",
       " 'Investing Advice Needed',\n",
       " 'Recently inherited $12k best way to save and best divedend stock to invest in?',\n",
       " 'Want to invest for my future but no idea what the best option is.',\n",
       " 'What Type of Investing is Right for Me?',\n",
       " '22 needing investment advice',\n",
       " 'Advice with small investing',\n",
       " 'How do i Begin investing',\n",
       " 'Need help investing!',\n",
       " '20 years old, $300k to invest and grow with, any reccomendations?',\n",
       " '20 y/o wanting to start investing',\n",
       " 'How should I start investing in the stock exchange',\n",
       " '22 yo first time investing in mutual funds and am having trouble finding where to start.',\n",
       " '25, no debt, 10k in stocks, 15k in roth, 26k in checking accounting, how should I invest it?',\n",
       " '17 years old. Have 5,000 to invest, but have no clue what to do. Help?',\n",
       " '(GR-NL) 23M 6k savings, advice on investing',\n",
       " \"im getting 10k soon. what's the best way to invest this for short-term or long-term gain?\",\n",
       " '$30,000 to invest, help me?',\n",
       " 'How should I invest 20K?',\n",
       " 'Need guidance on 100K investment',\n",
       " 'What should I invest in based on my current portfolio ?',\n",
       " \"I'm 23 years old, have $1000 to play around with, and am considering learning about FOREX trading or buying stock.\",\n",
       " \"(CAN) I'm a 21 y/o student looking for advice on how to invest some of my summer money long and short term.\",\n",
       " '[Investing] 23 y/o college grad needs help',\n",
       " 'Accumulated a lot of money in my savings account in addition to contributing to retirement. How do I start investing?',\n",
       " 'When I save $1000, how should I go about investing it?',\n",
       " 'Where to invest money short term to earn a bit of interest while I shop for a house?',\n",
       " 'New Grad looking for Investment Advice (Age 25)',\n",
       " 'Mid 30s, $1.2M in chequing and savings accounts, $200k in stocks/mutual funds. Not sure how to invest going forward.',\n",
       " 'Advice for a newb looking to start investing',\n",
       " 'Receiving a large windfall, how should I invest?',\n",
       " 'I am looking to get started in stocks and investing and have no idea where or how to get started',\n",
       " 'Looking to begin developing my financial situation and potentially invest. Unsure of how to begin.',\n",
       " \"I've built up a high net worth by passively investing my money, basically dumping everything into index funds. I'm thinking about switching to actively investing my money. Where do I start?\",\n",
       " 'Investment advice, currently make £45k.',\n",
       " 'How should I invest $2000?',\n",
       " 'Looking for options to invest some money',\n",
       " 'What to do when I graduate, as far as investing?',\n",
       " 'Grad student with no debt. Want to start investing. Advice?',\n",
       " 'Looking for guidance on how to begin dabbling with the stock market.',\n",
       " '17 year old with $300 in the stock market. What companies should I invest in?',\n",
       " 'I have 6 months to invest 1500-2000 dollars. What should I do?',\n",
       " 'Where can I learn about investing?',\n",
       " 'How should I invest $1,000?',\n",
       " 'My SO and I have about $40k to invest and make combined about $205k per year. Other than retirement accounts, how should we invest?',\n",
       " 'I have 200,000. What should I invest in to get the highest, most stable annual return?',\n",
       " 'Best investment options for 20k',\n",
       " 'Investing: I want to save $300 for the next three years. What is the best way for me to maximize my return by then end of the third year?',\n",
       " '[Investing] Looking to invest in stocks two weeks ago.',\n",
       " 'Will be earning more money next year, how to invest it for retirement?',\n",
       " 'Question on Investing $1200',\n",
       " 'Looking to invest, but uncertain and scared',\n",
       " 'Guidance For A 25 Yr Old Beginning Investor',\n",
       " '(19) I just learned my father is graciously giving me $5000 to invest while in school. What should I invest in? Also any tips a first time investor should know?',\n",
       " 'Trying to figure out where to invest monthly',\n",
       " 'How would one invest 10k a month for lowest risk/highest return margins over the next 3 years?',\n",
       " 'where to invest ~60K? real estate or investment account?',\n",
       " 'Looking for a few strong stocks that pay consistently high dividends with the potential for growth!',\n",
       " '20 year old college student looking to invest',\n",
       " '(CAN) I have $20,000 in saving need advice on short term investment.',\n",
       " 'Have 50k to invest since my 401k rollover in a Traditional IRA in Sharebuilder. Any suggestions?',\n",
       " 'Where to invest in Vanguard? (Completely new to this)',\n",
       " 'How should I spread my 457 investment?',\n",
       " 'I just received 18,000 dollars and need advice on how to properly invest or save it',\n",
       " 'Opinions for small investments.',\n",
       " '(AUS) How should I invest $160k',\n",
       " 'Help with investment.',\n",
       " 'What kind of funds and where to start investing a small amount ($250) in with a Roth IRA?',\n",
       " \"I'm 18 years old and i'm trying to get into stocks, What advice can you give?\",\n",
       " '27 no debt and 9k in savings looking for some advice or direction on saving or investing.',\n",
       " '27, only $1,000 to invest in an IRA -- fund suggestions?',\n",
       " '33 years old and want to invest long term.. received a 20k bonus and want to invest it all and let it grow for 25+ years. However, I am still lost, even after reading sidebar.',\n",
       " 'Advice regarding Investment',\n",
       " 'Investment tips with $1000?',\n",
       " '30 y/o need retirement investment advice',\n",
       " 'Just starting my career, looking for any financial advice to lead me in the right direction.',\n",
       " '19 year old college student looking for advice on investment returns (crypto) and reporting',\n",
       " 'Help: Investing Online',\n",
       " 'Best options for small-scale investments? ($75/week paychecks)',\n",
       " 'Turning 32 next month and I don’t have any investments set up, here’s hoping I’m not too late. Where should I start?',\n",
       " '(cad) I have a decent amount of extra money each month, and am looking for how to invest it.',\n",
       " \"I'm 23, work, live at home, want to invest in real estate. Where do I begin?\",\n",
       " 'Fidelity ROTH IRA - Where to invest?',\n",
       " 'Traveling for the next year, how should I invest ~20K so that I can come back to a comfortable life',\n",
       " 'I am 22 and suddenly got 5000€. I want to invest in stock (AT, EU) and need advise.',\n",
       " 'I [30] need advice. Part owner of $600k farm; should I sell my shares and invest in stock market?',\n",
       " 'How to invest?',\n",
       " \"I'm thinking of investing in a mutual fund, but I want to pick a good one\",\n",
       " \"2nd year law student who has zero knowledge in investing. I'm planning on investing in a mutual fund. Any tips or advice for a complete beginner? (PH)\",\n",
       " 'Finished off all my loans. How do I invest the extra money now?',\n",
       " \"[investment] I have $2000 left over from school grants that I want to invest, but don't know how.\",\n",
       " 'Best financial advice for an almost 18 year old who wants to begin establishing a financial groundwork',\n",
       " '18 years old and looking for a place to start/tips for investing',\n",
       " 'Came into 30,000 British pounds and no idea how to invest. Can anyone help.',\n",
       " 'I have a little over 10K to invest currently and would like to buy a home later this year. Best options?',\n",
       " '13 years old, made $3,000 online, what to invest in?',\n",
       " 'Should I start investing as soon as possible?',\n",
       " 'I have $10,000 to invest but know nothing',\n",
       " 'I have 500$ I want to use it to buy stocks like Apple or Amazon, how do I do it?',\n",
       " '(CAN) I have $55,000, best way to invest it?',\n",
       " 'I just opened an eTrade individual brokerage account and put $500 into it. What should I do next?',\n",
       " \"I Want to invest $10,000. I'm looking to buy a house in under 5 years.\",\n",
       " 'College Student Needs Advice on Investing and Saving Money',\n",
       " 'What type of investment should I rollover a retirement account, from an previous job/employer, into for the greatest gain and minimum to moderate risk? (x-post r/AskReddit)',\n",
       " 'Any suggestions for earmarking money for short term savings goals?',\n",
       " 'Just came into $10,000, need advice on how to best use / invest money. From Canada, Ontario.',\n",
       " 'Investing $150k Short Term',\n",
       " 'Need help saving, investing over 100k in checking and planning for buying a house.',\n",
       " 'Just received 20k and want to invest it for 5-10 years',\n",
       " 'I would like me some financial advice...',\n",
       " 'What to invest in on vanguard if I want to start at $50-100/month?',\n",
       " 'About to get a new job which will result in $30k more a year. Questions about investing.',\n",
       " \"Investing Question: Other than r/personalfinance are there any other sites you'd recommend for someone trying to learn the basics and more?\",\n",
       " \"Vanguard's mutual funds. What should I do for 2016?\",\n",
       " '25 years old PhD student, no debt with 8 grand in savings. Should I invest?',\n",
       " 'Intermediate Investor / Penny Stock Survivor Seeking Advice',\n",
       " 'I am 30 years old with a house, vehicle and no debt. Currently making 80k/year in Canada. What are best investment options to pursue?',\n",
       " \"I (19) have access to 20k, no knowledge of finance and don't know whether I should invest (NL).\",\n",
       " '[Investing] Anybody have thoughts or experience with motifinvesting ?',\n",
       " 'Investment Advice / Moving / Consolidation.',\n",
       " 'Should I start investing? (18 years old)',\n",
       " '58k in checking earning no interest. Over what period of time should I invest this in the market?',\n",
       " 'Given this information, what investment mix should I have for my Vanguard Roth IRA?',\n",
       " 'I have 20k in my Ira & want to invest in real estate. What price range should I go for?',\n",
       " '[TX] I want to make all the right decisions to stay afloat and invest in more properties. What should I know?',\n",
       " \"Advice on purchasing a 'the right car'…and financing.\",\n",
       " '(AUS)(CAN) I need your two cents to make myself a few cents. Help me investing my savings pleas!',\n",
       " 'Would like to start investing with very small transactions to build a nest egg. Need advice!',\n",
       " 'How much of my take home should I invest each month?',\n",
       " 'Looking to open an investment account',\n",
       " '(IN) Wife and I both 30, plan to have kids in 2 years. No debt, own house with no mortgage. What would be the best investment options to target ~Rs. 30 million in 5 years?',\n",
       " 'Where to move a small amount of stocks',\n",
       " 'A few thoughts on investing',\n",
       " '20 year old with an old stock portfolio that turned into something -- need advice.',\n",
       " 'What is the better long term option (speculation on better wanted) paying off a car debt or investing in stocks',\n",
       " 'What are your thoughts on investing apps like\"Stash Invest\" or similar services? Are there credible alternatives or where can I learning the basics?',\n",
       " 'Tips for avoiding capital gains?',\n",
       " '(CA)(18) Need some (financial) advice before university!',\n",
       " 'What are good investment options for someone in an F-1/OPT (for the next 12 months) and H-4 (afterwards) visa?',\n",
       " 'Future Proof Investment Ideas',\n",
       " 'Starting a new chapter in life, need some financial guidance.',\n",
       " 'Nervous to Invest Because Of Inevitable Recession?',\n",
       " '75K in Bitcoin. What to do?',\n",
       " 'Help with finance options please?',\n",
       " 'Any ideas for safe, low maintenance investments for someone in mid-20s',\n",
       " 'Best way to invest money for my 1 year old?',\n",
       " '30k in the bank ~50k tied up in the market, what should I do?',\n",
       " 'Just starting to think about investing',\n",
       " '26 year old looking for (you guessed it) personal finance advice. Help me, internet friends!',\n",
       " '(UK) 28 years old and looking for advice on how to start securing and planning a financial future',\n",
       " '27 Yr Old looking to invest in 401K/Roth/Traditional or both. No Employer Match. Details Below - Can you help me decide?',\n",
       " 'Finally invested 10k with Vanguard and needed some advice.',\n",
       " 'Mid-20s Assets in Cash. Smart to invest',\n",
       " '[UK] Savings help needed - Invest?',\n",
       " 'Help please - failing investment',\n",
       " 'Any good investment books similar to Boggleheads except tailored to the Australian market? (AUS)',\n",
       " '30 years old, $25k in the bank - Pay off mortgage, IRA Roth, invest in property? HELP!',\n",
       " '(CAN) Just started a new job and want to start investing wisely.',\n",
       " '24 years old, $31k/year salary, and investing on my own since 2010. How did I do? How much have you made or invested in the same amount of time? [Imgur](http://i.imgur.com/J2Z2JhX)',\n",
       " 'Divorced. Well about to be walking away with around 100k. And starting over investing ?????? So many options need direction',\n",
       " '23 Yrs Old - looking to begin serious financial planning',\n",
       " 'Investment advice for $100K inheritance',\n",
       " 'Help with managing money with unpredictable income',\n",
       " '30k (CDN) to invest',\n",
       " \"I'm thinking about investing for my great grand children. I'm thinking very long term, I'm only 30, my eldest child is 8 yrs old. Where do I start and what should I be considering?\",\n",
       " 'Short term investment with 1k?',\n",
       " '19 y/0 Starting an IRA with Fidelity through my employer..need help picking a fund',\n",
       " 'Down over 40% (-200k) in a stock. Makes up majority of my portfolio. What to do?',\n",
       " '[help] Able to save 40K/year in average. How to build it to 500K in about 8 years? Or am I dreaming?',\n",
       " 'I have $200.000 in my account, but recommended investing ideas do not apply to me',\n",
       " 'Advice: Using stocks to pay off credit card debt',\n",
       " \"I'd like to educate myself on Personal Finance and learn something about stuff like taxes, money management, investing. Where do I even start?\",\n",
       " '(25m) Looking for financial advice.',\n",
       " 'Canadian in US - Need advice on investing.',\n",
       " 'Grad student soon to start a new job ($50K/year), and could use some advice on financial planning',\n",
       " \"How to invest money that's sitting in the bank?\",\n",
       " 'Selling off my Stock to pay off portion of debt. What taxes/fees can i expect to pay?',\n",
       " 'Looking for some advice as to where I should save my money for maximum returns but least headache / risk.',\n",
       " '(FI) Best long-term investment sites',\n",
       " 'Where to start for a complete beginner in personal financing. Soon-to-graduate, has job offer.',\n",
       " \"In my mid 20s and given Opportunity to buy employer's small business. How to finance?\",\n",
       " '(CAN) 25 year old looking to invest some savings',\n",
       " '[Investing] Real Estate Deal fell through. What should we do now?',\n",
       " 'Best options using home equity to reduce debt',\n",
       " \"Need Help! 58k /Year But Can't Budget Money Properly. Looking into Real Estate and Side Business as Help\",\n",
       " \"I'm 26 and just received a $230,000 inheritance consisting of stocks, bonds, etc. I need a lot of advice!\",\n",
       " 'I want to ask for help on how to invest in Canada except investing in housing.',\n",
       " 'College student investing',\n",
       " 'What is the best way for me to learn about the economy/international markets for things like imports/exports, finance, and technology corporations?',\n",
       " \"Challenge: I am a young Muslim looking to invest but can't do anything with Interest.\",\n",
       " 'I am a minor and would like to open a stock account.',\n",
       " 'My Wife has some money in investment plans that seem to be going nowhere. What to check if we want to liquidate?',\n",
       " 'Looking to invest in a bounce castle and looking for tips/advice.',\n",
       " 'Any finance advice for a PhD student (UK)?',\n",
       " 'Mother just retired and sold her house for profit. How should she invest?',\n",
       " '22M, just secured my first job. Could use some investing advice.',\n",
       " 'How much have I lose out? for not investing in the last 5 years',\n",
       " 'Where to get best savings yield?',\n",
       " 'How best to invest money located in the US as a non-citizen living abroad',\n",
       " 'Invest or Save?',\n",
       " 'Financial Adviser Advice',\n",
       " 'What is the best college major for wanting to work for a hedge fund?',\n",
       " \"Is there a reason I should not put 140K into VTSMX? I'd like some advice from financial advisers.\",\n",
       " 'In a few weeks I will be inheriting some money. Need help and opinions.',\n",
       " '(22M) 140k salary, critique my investment strategy',\n",
       " 'Suggestions about managing cash flow?',\n",
       " 'First Big Buy! Need loan advice',\n",
       " 'Money in various countries - should I move before investing',\n",
       " '(AUS) How much should I invest internationally?',\n",
       " 'What kind of financial advisor do I need?',\n",
       " '22M, saved 30K so far..how to invest ?',\n",
       " 'As a 26 y/o where can I seek a financial advisor?',\n",
       " '$250,000 in liquid assets & no debt, but low income. How to plan for the future?',\n",
       " 'Where to start when it comes to taking my financial planning more seriously? (CA)',\n",
       " 'In June I will realize large capital gain, how can I save on taxes?',\n",
       " \"Invested and forgot about my IRA and 401(k) - breaking even on stocks and MUF's, but have $600 in profit.\",\n",
       " 'Looking for a simple investment plan to provide monthly income from an inheritance',\n",
       " 'Looking for good personal finance strategies/habits for a college freshman',\n",
       " 'Looking for some personal finance guide',\n",
       " 'Can Reddit help me find worth while books on investment and economics?',\n",
       " 'Where should my savings go?',\n",
       " '29 years old...balancing expense ratios with overall investment allocation.  Need help...',\n",
       " '[Request] ROTH Investment Diversifying?',\n",
       " 'I am on work-visa in US. Should I invest in US or back in home country (India)?',\n",
       " 'Investment strategy - Full time job transitioning to full time student',\n",
       " 'Please help! Need advice for international personal finance.',\n",
       " \"I got a 50 dollar prepaid debit card as a gift, is it worth it to invest into stock market and if so how do I do that (I'm a minor and have no bank account)\",\n",
       " \"I'm anticipating my income to go up next year - should I buy now or wait another year?\",\n",
       " 'Recent grad looking for tips on wealth preservation with modest growth',\n",
       " 'Wife & I are inheriting around $20k and want to invest in something for our two children....whats a good option??',\n",
       " 'Where should I keep my \"safety net\" fund? Savings account? CD? STAR fund?',\n",
       " 'Investing Advice and Credit Card questions',\n",
       " \"I'm 17 years old and I have $21,000 in Bitcoin. Should I sell it for cash? (CA)\",\n",
       " \"What's The Wise Financial Choice?\",\n",
       " 'Received $15k to hold. Need liquid, safe investments.',\n",
       " 'What are good books to start learning about finance and not be financially illiterate?',\n",
       " 'Trust fund baby looking for advice on where to start',\n",
       " 'Asset Allocation/Passive Income Tips For an 18-year old?',\n",
       " 'Young Couple wanting to Invest R100K(RSA)',\n",
       " 'Personal financial advisor /planner. Should I get one and how do I go about doing it?',\n",
       " 'No financial experience, I have been stashing money into an IRA for years and it has gained me nothing. I have no idea how to invest it let alone navigate the website.',\n",
       " 'Best option for money growth for child?',\n",
       " 'How to invest regarding the upcoming climate change?',\n",
       " 'How to find a financial advisor I can trust',\n",
       " 'What to do with Cash Savings Bonds?',\n",
       " 'Best option for around a 15k loan?',\n",
       " 'Best Savings plan for 15 years',\n",
       " 'Investment property opportunity but scared I might be over reaching',\n",
       " \"Need $10-$15K for upcoming medical bills - what's the best way to leverage home equity to get it?\",\n",
       " \"What's a good book to learn about basic personal finance?\",\n",
       " 'Can I sell stock to pay for college without taxes/penalties?',\n",
       " 'Feeling like i will never get out of debt. Any book recommendations to help understand persona finance?',\n",
       " 'Any recommendations for highly-detailed personal finance book/literature?',\n",
       " 'How to convince my dad to start using Vanguard funds for the low expense ratios?',\n",
       " \"I have 10k, I'd like to turn a profit with it.\",\n",
       " '21 year old looking to buy house/flat in near future.',\n",
       " 'Opening first savings account, help me decide between two options!',\n",
       " 'How to learn Personal Finance for young adults?',\n",
       " '(US/SF Bay) Where do I stand financially and how can I maximize my financial effectiveness.',\n",
       " '18 YO starting a Vanguard 500 account',\n",
       " 'Mom is getting a couple k in taxes and will have a couple left over. Wanna invest.',\n",
       " 'Where did you feel comfortable investing your down payment?',\n",
       " 'Expecting 2nd baby Mar 2015- should I start the baby steps now or hoard $$$ until baby is here?',\n",
       " 'Your biggest Personal Finance mistakes of 2014']"
      ]
     },
     "execution_count": 98,
     "metadata": {},
     "output_type": "execute_result"
    }
   ],
   "source": [
    "centroids1_PCA[16]"
   ]
  },
  {
   "cell_type": "code",
   "execution_count": 160,
   "metadata": {},
   "outputs": [],
   "source": [
    "##Labeling all dataset\n",
    "labels_centroids = [np.argmax(c[i]) for i in range(len(c))]"
   ]
  },
  {
   "cell_type": "code",
   "execution_count": 193,
   "metadata": {},
   "outputs": [],
   "source": [
    "labelled_data=list(zip([vectorized_data_full[i][0] for i in range(len(vectorized_data_full))],labels_centroids))[0:3]"
   ]
  },
  {
   "cell_type": "code",
   "execution_count": 134,
   "metadata": {},
   "outputs": [
    {
     "data": {
      "text/plain": [
       "['Buying a used sports car (BE)',\n",
       " 'Buying a car tomorrow and need help haggling/tips',\n",
       " 'Help with how to buy a new car and what to do with current vehicle',\n",
       " 'Deciding best option for purchasing a new vehicle',\n",
       " 'I need some advice about buying a used car from a dealership',\n",
       " 'Trying to buy a car for the first time any help or recommendations?',\n",
       " 'I am looking to buy my own car. Should I buy new or used?',\n",
       " 'Hello! Seeking advice on car purchase.',\n",
       " '[18M] Need to buy a newish reliable car within 2 years starting at nearly 0 dollars what can I do?',\n",
       " 'Advice needed on whether to keep or sell car',\n",
       " 'advice on getting rid of my overpriced car',\n",
       " 'Looking for advice - Completely new to used car buying',\n",
       " 'Looking to buy a car, looking for advice on best options?',\n",
       " 'Can I Afford This Car? (Need Some Advice)',\n",
       " 'Looking to purchase my first car',\n",
       " 'Wanting to get a different car, need sound financial advice.',\n",
       " 'Buying a Car - Looking for Resource',\n",
       " 'Thinking of financing a new or used car because of the amount of driving my new job is having me put on my personal car. Need help making wise decision.',\n",
       " 'Should I keep my old car or go car-less?',\n",
       " 'Looking to buy my first car, have absolutely no idea how to go about doing it.',\n",
       " 'help Advice First Time Car buyer.',\n",
       " 'Looking to buy a car',\n",
       " 'Planning for a new car',\n",
       " '(CAN) Looking For Advice About My Car Situation',\n",
       " 'How much to save for a used car?',\n",
       " 'Current car is a money pit, I still owe thousands on it, and looking to replace with a more affordable car! HELP!!!',\n",
       " 'Tips for purchasing my first vehicle?',\n",
       " 'Purchasing a sub-$1000 used car',\n",
       " 'Advice about a vehicle',\n",
       " 'Car Question: To Upgrade or Not?',\n",
       " \"I'm not sure if I should sell my vehicle (which is paid for) or just keep it.\",\n",
       " 'My 2006 Car needs a new engine...do I go for it?',\n",
       " 'A friend wants some advise on getting out of a bad vehicle purchase...',\n",
       " 'Regretting Financing car, what are my options?',\n",
       " 'How much to spend on a car?',\n",
       " 'Buying a car - EV(Is it worth it?)',\n",
       " 'First Car for 23M?',\n",
       " 'Leasing a new car, could use some help.',\n",
       " 'Having trouble deciding what my budget should be for a used car.',\n",
       " 'Should I buy a 40-45k car?',\n",
       " 'Should I buy a car',\n",
       " 'Should I buy a new Prius car!?',\n",
       " 'My car is done, and so I need a car asap. Help me make the right choices to not get screwed.',\n",
       " 'Trading a car in before being paid off? Advice please',\n",
       " 'Should I buy a fun car, even though my daily is running decent.',\n",
       " 'Best economical way to buy a used car with trade-in?',\n",
       " '[25/m] About to purchase a car I might not be able to afford, should I?',\n",
       " 'Need help deciding what vehicle to keep',\n",
       " '23 and looking to buy my first car',\n",
       " 'Is it a good idea to get my first car now? (CAN)',\n",
       " 'Should I go for a new 2012 Civic Hybrid at .9% APR (US)?',\n",
       " 'First time buying a car. What would be the best way to go about doing it?',\n",
       " 'Am interested in buying a car. Currently drive my fathers spare (09 Camry). Am 19 and commute to the local college. Earn ~$500 a week at my job. Basically curious as to whether I should get a nice used (8,000-12,000) or save it for a brand new car.',\n",
       " 'Need new car for new job commuting. Not sure what I can afford.',\n",
       " 'Deciding when to buy a car...',\n",
       " 'Should I buy this car? Details Inside.',\n",
       " 'Need a car, details inside',\n",
       " 'Options on what to do with a totaled car',\n",
       " \"Really struggling with a car decision (I've really thought about it; I'm not just someone who wants a new car for kicks)\",\n",
       " '[X-Post from r/advice] Wanted some help. Whether to buy a car or lease?',\n",
       " \"Looking at financing a car, feel like I'm getting fleeced, need advice.\",\n",
       " 'Buying a new commercial vehicle',\n",
       " 'Financial advice on a car.',\n",
       " 'What should I do with my car?',\n",
       " \"Need help to make sure I'm getting a fair deal on leasing a new car\",\n",
       " \"I'm going to be 19 soon and I need an outside opinion on buying a new(er) car. (CAN)\",\n",
       " 'Opinions: Am I doing the right think in my situation buying a new car?',\n",
       " 'Tips for getting my first car?',\n",
       " 'Car Dilemma :/',\n",
       " 'Buying private party used car',\n",
       " 'Is it Time for a New Car?',\n",
       " 'Should I buy a CX-5 (car), lease one, or buy a different model all together?',\n",
       " 'Is it better to sell the vehicle sooner, or later? And what to do if I sell the vehicle sooner.',\n",
       " '(Can) Is it worth it to finance a car for myself [20 M]?',\n",
       " 'Advice on my vehicle situation',\n",
       " 'Selling car before things break',\n",
       " 'Repairing car, buying certified preowned, or leasing, what to do on a dwindling savings?',\n",
       " 'Mercedes C250 buyout or lease new car?',\n",
       " 'How much to spend on a car if you are a enthusiast?',\n",
       " \"So I'm going on a road trip soon.. should I rent a vehicle to save on maintenance and putting miles on my personal vehicle?\",\n",
       " 'Would this car purchase be irresponsible?',\n",
       " 'Downsizing cars and moving, what is the best way to sell my financed car and have it go without a hitch?',\n",
       " 'Upgraded wifes car, now have loan....pay it off ASAP or save?',\n",
       " 'Trading in car to lease something cheaper. Is it a good decision?',\n",
       " '$2k repair needed on a car valued at $3k and I still owe $6k... Best option?',\n",
       " 'Want to buy my first fun car -- how much to finance and for how long of a term?',\n",
       " 'Is it better to buy or lease a car?',\n",
       " 'Best plan for second car... Keep or Sell',\n",
       " 'Car Was Just Totalled, Need Recommendations on Replacement',\n",
       " 'Hi r/personalfinance! Need your help in getting rid of my financed car',\n",
       " 'What to do with a Car.',\n",
       " 'Should I keep my old Honda or upgrade to a newer one?',\n",
       " 'Car Purchase now or later',\n",
       " 'Can I afford a car? Please help.',\n",
       " 'Buyers Remorse on a New Car I financed',\n",
       " 'Should I buy a car outright or finance it?',\n",
       " 'Should I finance my car?',\n",
       " 'Car Buying Scenario - Looking for the Catch',\n",
       " 'Can I afford to buy and own a ~15k SUV?',\n",
       " '25F in NY looking to buy a vehicle for around $2.7k. would love your advice.',\n",
       " 'Am I in a position to purchase a car?',\n",
       " \"Bought an old car a few months ago that didn't pass inspection, and wouldn't w/o massive repairs. Any way to recoup money on this?\",\n",
       " 'Am I being a idiot for wanting to buy a car?',\n",
       " 'Keep the car or get a different one?',\n",
       " 'Car trade-in blunder, need advice',\n",
       " 'When should I buy my first car?',\n",
       " \"Sell my car? I'll be traveling through Europe for several months and need help deciding if it makes sense.\",\n",
       " \"Is there any reason I shouldn't get rid of my 2 beaters and buy a newer vehicle?\",\n",
       " 'Leasing or Financing-How to afford a necessary car on low starting funds?',\n",
       " 'Is it a safe move to buy this car?',\n",
       " 'Thoughts on buying new car at 0% or keeping current car (not paid off.)',\n",
       " 'A Ford Focus dilemma. Do we sell or keep?',\n",
       " \"Help, I'm 24 and Need a Car\",\n",
       " 'Should I sell my car? in desperate need for financial help. (KU)',\n",
       " 'What is a decent price to pay for a car with this income?',\n",
       " '20 year old college student who pays for college and trying to get a car, please help!!!',\n",
       " 'Buying My First Car',\n",
       " \"Let me know if this is the wrong place to post this please, but I'm trying to find out if this car sale is worth looking into.\",\n",
       " \"Car troubles weighin' me down\",\n",
       " 'How to determine if you can really afford that car',\n",
       " 'My car is ruining my life. Need serious advice.',\n",
       " 'Buying a 2nd hand car in California',\n",
       " '2 years out of college and in the market for a car',\n",
       " 'Purchasing a truck, is it a good idea?',\n",
       " 'Is it a good time for me to buy my first car?',\n",
       " 'Commuting Cost & Car Ownership Advice - Input Appreciated!',\n",
       " 'Want to buy a super car in the next 10 years',\n",
       " '[25]I think my car is dead, looking for advice on what to do with it',\n",
       " 'Very minor car accident, plan to sell car soon - what is the best way to proceed?',\n",
       " 'Got a question about a helping a friend buy a car',\n",
       " '(CAN) Justifying the purchase of a car in our situation',\n",
       " 'How Much Under MSRP on New Car?',\n",
       " 'Trying to determine when to upgrade to a more family-friendly vehicle.',\n",
       " 'I am buying a new car and want to optimize paying it off. Please help me figure out how.',\n",
       " 'Can I Afford This Car?',\n",
       " 'Car Buyer needing Finance Advice',\n",
       " 'Wife and I recently bought a house, what about buying a vehicle?',\n",
       " \"I feel that my current vehicle won't last me as long as I need it to. Run it into the ground or sell it now?\",\n",
       " '(EU)Should I sell my car now at a low price to a dealership or wait if I can find a better offer?',\n",
       " 'Car buying decision: Buy a car soon or delay by a few months?',\n",
       " 'Advice onRenting a Privately Owned Vehicle?',\n",
       " 'Car trouble',\n",
       " \"Bought a used car and the warranty won't fix it because of previous owner abuse. Help!\",\n",
       " 'Saving for a wedding, need a car. (CA)',\n",
       " 'Baby on the way - what kind of car should we get?',\n",
       " 'Broken car while getting finances straight, need advice please!',\n",
       " 'Upside Down Car Trade-In Advice Wanted',\n",
       " 'Need advice on truck',\n",
       " 'What should my auto budget be?',\n",
       " 'Real world Car buying Experience',\n",
       " '$1800+ in scratches on a leased car. What are my options?',\n",
       " \"Bought a car for cash, left it at shop to get worked on, never registered it, now I've lost the title. Need advice.\",\n",
       " '(Auto) Get rid of our car altogether for Uber/Subway?',\n",
       " \"[UK] First car, first job what should I do if I'll be driving a lot\",\n",
       " 'Keep an old beat up car running or start looking for a different vehicle?',\n",
       " 'Car totaled in the midst of financial crisis. Any advice?',\n",
       " '23 y/o (USA) Planning to buy a different vehicle if given salary position, advice?',\n",
       " 'I just cannot get rid of this car',\n",
       " 'What kind of feasible car payment should I be looking to get with my income?',\n",
       " 'BF bought a vehicle that is not the advertised vehicle',\n",
       " 'Just renewed registration for 2014 Civic - form says car is worth $6000?',\n",
       " 'How much money should I have saved before a new truck.',\n",
       " 'Best vehicle for saving down payment for a house?',\n",
       " 'How to get rid of my current car, and stay stable (DR)',\n",
       " 'First time car buyer at 19',\n",
       " 'My car is broken down im 18 and cant afford to fix it. What can I do ?',\n",
       " 'Purchasing a car as a commuting college student',\n",
       " 'Car a bad idea?',\n",
       " 'Need help getting finances on track, automobile needed. Please.',\n",
       " 'Leasing a car with the purpose of buying',\n",
       " '35k salary, would like to buy used Jaguar',\n",
       " 'When is leasing a car a good financial decision?',\n",
       " 'When is the best time to trade in a car and get a newer one?',\n",
       " 'I need advice on a car, budget, and housing.',\n",
       " \"Live in NYC where we haven't needed a car in years. Now I'm moving to a city where I absolutely need one. How should I proceed?\",\n",
       " \"Lease is nearly up on my wife's car, and looking into purchasing the next vehicle she drives. Not very car-savvy when it comes to ending a lease or parlaying what value I have into a good deal (or if that even is a thing).  \",\n",
       " 'How to protect yourself buying a used car?',\n",
       " 'Leasing a (new?) EV vs Buying a Used one.',\n",
       " 'Financed a Lemon, no warranty, transmission is gone',\n",
       " 'Buyung and Selling used cars',\n",
       " '8.8k Unexpected Car Repair, Choices?',\n",
       " 'I want to buy a new car, but the dealerships around me don\\'t have the specific model/color I want. Is it reasonable to \"build\" it on their website and send it to the dealer? Is that the price I should expect to pay when I go to the dealer?',\n",
       " 'I bought my first real car',\n",
       " 'New cars vs old?',\n",
       " \"1st baby on the way... starting to think i need a (used)new car. Would like PF's opinion.\",\n",
       " \"How do I know if I'm being offered a good money-factor on my car lease?\",\n",
       " 'Just wrecked my car how do I rebuild?',\n",
       " 'Should I sell my stock to buy a new car?',\n",
       " 'Dealer says KBB is irrevalant. Says he is pricing used car based on market value',\n",
       " 'Need help finding a comment on the 3 strike rule for buying a car',\n",
       " 'Can I afford a luxury car?',\n",
       " 'Am I eligible to trade in my car?',\n",
       " '26, in online college, looking to buy a car',\n",
       " 'Should I Get Rid of My Auto Lease?',\n",
       " 'Total loss car value',\n",
       " \"I have had my car since it was brand new 16 years ago, its been insured/registered the while time and I've been the only owner, how much of the cars value would I expect to be paid if the car was totaled?\",\n",
       " 'Can I return the used car I just purchased 2 days ago?',\n",
       " 'How would someone get a new car on a tiny budget?',\n",
       " \"Used car problems. Mom's advice is to let the bank repo the car. Looking for alternatives.\",\n",
       " '$2,500 in savings, Ford E150 Work Van with No A/C (165k miles). Live in Florida. Pay to fix or get a new car?',\n",
       " \"I'm thinking of buying a car (Malaysia). At the interest rate of 3%++, should I wait until I have enough money to pay for the car completely upfront to avoid interest?\",\n",
       " 'Chevrolet Warranty on Previously Fixed Problem [US]',\n",
       " '(AUS) Thinking of importing a 2016 Chevrolet Camaro 2SS. How much should I expect to spend on insurance?',\n",
       " 'I am getting a job overseas but owe $8,000 more than my 2015 car is worth. Best way to sell?',\n",
       " 'Car advice before kids',\n",
       " 'Did my dad do the financially smart thing to do leasing a new car?',\n",
       " 'Used Cars and CarMax',\n",
       " '2011 370z vs 2012 Cruze',\n",
       " \"What's the best way to help my parents buy a car?\",\n",
       " \"My Truck's transmission blew out, what to do\",\n",
       " 'Best route to paying car loan/trading in for another car.',\n",
       " 'Buying a Car - New vs Used APR differences?',\n",
       " \"What should I do with my car lease while I'm in basic training\",\n",
       " \"Are carfinder and carmax and other car searching sites good? Edmund's price promise? Wondered if only good for brand new cars because we can't physically see the car. And alot, the prices seem higher than dealers\",\n",
       " 'For people who drive rock bottom, fully depreciated cars, how do you handle maintenance?',\n",
       " 'Just got new tires for my old car, now needs major repairs! What should I do?',\n",
       " 'How can I fix a $18000 rash car purchase?',\n",
       " 'Looking for help establishing a budget (for a car) with a variable income',\n",
       " 'Is there a method to rental car pricing?',\n",
       " 'Help! Moped fell over and scratched up my car. What do I do?',\n",
       " 'Cancelled car extended warranty. What should I do with the prorated amount?',\n",
       " 'Should you buy a car or property first?',\n",
       " \"college student, needs car, but can't buy with cash and has no credit...advice needed please\",\n",
       " 'Purchased a used car, but they upped the price by my trade in value without me realizing..',\n",
       " 'PF! Help me convince my friend to not lease a car!',\n",
       " 'Regretting car purchase instead of house improvements, options?',\n",
       " 'Poor credit...trying to buy a car',\n",
       " 'Mom wants me to lease her car in my name',\n",
       " \"I received a mailer from a Nissan dealership offering to buy my Nissan for more than it's worth.\",\n",
       " 'About to get 4k to spend, want a motorcycle but leaning toward...',\n",
       " 'Moving from Toronto to Seattle. Good idea to buy car and drive there? (CAN)',\n",
       " 'Is buying a car from a self-financing, or \"buy here pay here\" lot always an awful idea?',\n",
       " 'Car Options Giving Me a Headache',\n",
       " \"Does it make sense financially to sell my car and drive my mom's?\",\n",
       " 'I am 22 and want to finance a motorcycle. Any tips or suggestions?',\n",
       " 'Okay PF I would really appreciate some insight/advice into my car buying journey i am about to begin.',\n",
       " 'Just got a new job and now in search of a new car',\n",
       " 'Online sites with large database of used cars?',\n",
       " 'Tesla (Kilocar) Lease (-$200/mo) vs Buy Question',\n",
       " 'Downsize truck now or later? (CA)',\n",
       " 'Cancelled my auto maintenance and warranty contract from dealer',\n",
       " 'Screwed myself with a new truck',\n",
       " 'Mom soon to die of cancer. What to do with financed vehicle?',\n",
       " 'Is it better to have a friend gift me a car or have him \"sell\" it to me for $50?',\n",
       " 'Bit of a unstable life position (in a good way), but my car lease is ending in April. What should I do?',\n",
       " 'save for car or retirement?',\n",
       " 'Should I buy a car cash? (Canada)',\n",
       " 'My girlfriend got screwed by a car dealership',\n",
       " 'College Grad. New Job. New Car? Golf GTI 2015',\n",
       " \"I was rear ended in traffic and am getting mixed advice on what to do. I'm not sure what my best option is\",\n",
       " 'When is the old car no longer worth it? (NZ)',\n",
       " \"Wife's car just got repossessed. Questions.\",\n",
       " 'Can we afford another vehicle?',\n",
       " 'My aunt has purchased a vehicle and wants to give it to me. She is in another state.',\n",
       " 'Plating car immediately',\n",
       " 'Should I buy this parking space?',\n",
       " 'Car damage totaling $6000. Only have $1300 in savings. In between jobs. How can I afford this?',\n",
       " 'Student needs a car',\n",
       " 'I did something dumb and my car got repossessed. What are my next steps?',\n",
       " 'Private Selling a Car across State Lines',\n",
       " '[First time car buyer] When buying a car is it possible to find out what the dealership actually payed for the car/money they have in it?',\n",
       " 'Selling car via craigslist - is paypal okay to use?',\n",
       " \"After 5 months of unemployment, I'm starting a new job this month making almost $20k/year more than my last job and the first thing I'm going to do is trade in my 2008 Camry with 45k miles for a brand new Audi!\",\n",
       " \"Pro's and Con's of purposefully letting a vehicle get repoed?\",\n",
       " 'Am I wrong in thinking that the only price that matters when buying a car is the monthly payment?',\n",
       " 'Dealership financing: How to avoid numerous hard pulls?',\n",
       " 'Is Voluntary Reposession my only option? (car, USA)',\n",
       " 'How do dealership negotiations work when custom ordering a car?',\n",
       " '20M just totaled my car. Only have $4k and have school and work.',\n",
       " 'Most effective way to spend a car allowance.',\n",
       " 'Should I[23] have bought my car? 46k income',\n",
       " 'Are there assistance programs for single people wanting to purchase a vehicle?',\n",
       " 'Thinking about getting a card for some new tires for my new car.',\n",
       " 'Car Registration Question',\n",
       " 'Truck dying a slow death. Is it time?',\n",
       " 'Back from the shop with new problems (X-post from r/motorcycles)',\n",
       " \"What's VW waiting for I want my money\",\n",
       " 'Need help on math with car, please. Firestone says 4k to fix. More details in thread.',\n",
       " \"I'm planning a ~ $5k, 25k miles trip for next year; I'm looking for advice on CC options.\",\n",
       " 'Mercedes butt stuff',\n",
       " '(SVK) I have 1000EUR, I want to put them in Tesla. What is the procedure and options?',\n",
       " 'Sister gave the dealership $500 to \"hold\" a car on a price she has in writing. Now she wants it back.',\n",
       " \"College student fearing for future, because I can't drive\",\n",
       " 'Was young and dumb: bought a motorcycle on a manufacturer Credit Card and want to get rid of it but am upside down.',\n",
       " 'Best way to unload a vehicle ($37k still owed)',\n",
       " 'Recently just started driving for Uber and Lyft. Need financial advice.',\n",
       " 'Lease? Buy? Get a bicycle?',\n",
       " 'Should I cash out my cryptocurrency to pay off my car?',\n",
       " 'When to Repair or Replace? (motorized tools, appliances, etc)',\n",
       " \"Hey guys I've decided to start making money by flipping. I'm just tired of work at Mt part time job. I plan on quitting my job by June if I make at most $500 a month somehow. I just need to know should I be detecting gas mileage from when I go to thrift stores? Or will it not make a difference?\",\n",
       " 'Hold out on my car loan or order one and PCP?']"
      ]
     },
     "execution_count": 134,
     "metadata": {},
     "output_type": "execute_result"
    }
   ],
   "source": [
    "l=['toyota problems']\n",
    "testing = get_embeddings(l)\n",
    "h=pca.transform(testing)\n",
    "testingc=cosine_similarity(h, kmeans.cluster_centers_)\n",
    "y=np.argmax(testingc)\n",
    "centroids1_PCA[y]"
   ]
  },
  {
   "cell_type": "code",
   "execution_count": null,
   "metadata": {},
   "outputs": [],
   "source": []
  }
 ],
 "metadata": {
  "kernelspec": {
   "display_name": "Python 3",
   "language": "python",
   "name": "python3"
  },
  "language_info": {
   "codemirror_mode": {
    "name": "ipython",
    "version": 3
   },
   "file_extension": ".py",
   "mimetype": "text/x-python",
   "name": "python",
   "nbconvert_exporter": "python",
   "pygments_lexer": "ipython3",
   "version": "3.6.3"
  }
 },
 "nbformat": 4,
 "nbformat_minor": 2
}
