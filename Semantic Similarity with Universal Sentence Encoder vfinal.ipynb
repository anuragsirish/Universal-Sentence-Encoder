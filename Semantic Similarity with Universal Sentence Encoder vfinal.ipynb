{
 "cells": [
  {
   "cell_type": "markdown",
   "metadata": {},
   "source": [
    "# <b> What is Universal Sentence Encoder (USE)? "
   ]
  },
  {
   "cell_type": "markdown",
   "metadata": {},
   "source": [
    "### The Universal Sentence Encoder encodes text into high dimensional vectors that can be used for text classification, semantic similarity, clustering, and other natural language tasks.\n",
    "\n",
    "### Universal Sentence Encode (USE) part of the Tensorflow Hub library developed by Google is a sentence embedding model. It has proved to be much better than traditional word embedding models. USE can be used to capture the semantic similarity between two sentences and provide a matching percentage.\n",
    "\n",
    "### Link to white paper: https://static.googleusercontent.com/media/research.google.com/en//pubs/archive/46808.pdf"
   ]
  },
  {
   "cell_type": "markdown",
   "metadata": {},
   "source": [
    "# <b> How can it be used on AI and Analytics Projects?"
   ]
  },
  {
   "cell_type": "markdown",
   "metadata": {},
   "source": [
    "## <b> 1) Features for building Chatbots"
   ]
  },
  {
   "cell_type": "markdown",
   "metadata": {},
   "source": [
    "### Companies trying to build a chatbot that recieve questions with a narrow scope (e.g. FAQ bot). With a predefined set of questions and answers, the incoming questions to the chatbots can be matched with the predefined questions using USE and the answer to the question with highest match percentage can be sent as a result. \n",
    "\n",
    "### <b> High Level steps to build the chatbot\n",
    "### 1) Create a predefined set of questions (Q1) and answers(A1). For e.g., What are the pros and cons of having a 401k account?\n",
    "### 2) Create semantically similar testing questions (Q2) as the incoming questions to the chatbot. For e.g., What are the advantages and disadvantages of having a 401k account?\n",
    "### 3) Match the predefined questions (Q1) with testing questions (Q2)\n",
    "### 4)Find Q1 with highest match percentage using USE\n",
    "### 5)Provide A1 as output to the chatbot user"
   ]
  },
  {
   "cell_type": "markdown",
   "metadata": {},
   "source": [
    "## <b> 2) Similarity analysis on Unstructured Data"
   ]
  },
  {
   "cell_type": "markdown",
   "metadata": {},
   "source": [
    "### Companies trying to find semantically similar sentences in a massive pool of unstructured text data can leverage USE. A threshold for matching percentages can be set and all sentences with matching percentage above this threshold can be shown as a result"
   ]
  },
  {
   "cell_type": "markdown",
   "metadata": {},
   "source": [
    "# <b> Lab Objective"
   ]
  },
  {
   "cell_type": "markdown",
   "metadata": {},
   "source": [
    "### The objective of this lab is to find semantically similar questions from a pool of hot and popular questions seen on Reddit Finance dataset. I am using an API to retrieve these questions from Reddit and then match test questions with the reddit questions using USE. The final output is the question with highest match percentage.In this way, I am able find semantically similar questions. "
   ]
  },
  {
   "cell_type": "markdown",
   "metadata": {},
   "source": [
    "### Load and Import Modules"
   ]
  },
  {
   "cell_type": "code",
   "execution_count": 10,
   "metadata": {
    "scrolled": true
   },
   "outputs": [
    {
     "name": "stdout",
     "output_type": "stream",
     "text": [
      "Requirement already satisfied: nltk in /opt/conda/lib/python3.6/site-packages (3.4)\n",
      "Requirement already satisfied: six in /opt/conda/lib/python3.6/site-packages (from nltk) (1.12.0)\n",
      "Requirement already satisfied: singledispatch in /opt/conda/lib/python3.6/site-packages (from nltk) (3.4.0.3)\n",
      "Requirement already satisfied: tensorflow in /opt/conda/lib/python3.6/site-packages (1.13.1)\n",
      "Requirement already satisfied: absl-py>=0.1.6 in /opt/conda/lib/python3.6/site-packages (from tensorflow) (0.7.1)\n",
      "Requirement already satisfied: tensorflow-estimator<1.14.0rc0,>=1.13.0 in /opt/conda/lib/python3.6/site-packages (from tensorflow) (1.13.0)\n",
      "Requirement already satisfied: six>=1.10.0 in /opt/conda/lib/python3.6/site-packages (from tensorflow) (1.12.0)\n",
      "Requirement already satisfied: protobuf>=3.6.1 in /opt/conda/lib/python3.6/site-packages (from tensorflow) (3.6.1)\n",
      "Requirement already satisfied: keras-applications>=1.0.6 in /opt/conda/lib/python3.6/site-packages (from tensorflow) (1.0.7)\n",
      "Requirement already satisfied: numpy>=1.13.3 in /opt/conda/lib/python3.6/site-packages (from tensorflow) (1.13.3)\n",
      "Requirement already satisfied: tensorboard<1.14.0,>=1.13.0 in /opt/conda/lib/python3.6/site-packages (from tensorflow) (1.13.1)\n",
      "Requirement already satisfied: termcolor>=1.1.0 in /opt/conda/lib/python3.6/site-packages (from tensorflow) (1.1.0)\n",
      "Requirement already satisfied: gast>=0.2.0 in /opt/conda/lib/python3.6/site-packages (from tensorflow) (0.2.2)\n",
      "Requirement already satisfied: astor>=0.6.0 in /opt/conda/lib/python3.6/site-packages (from tensorflow) (0.7.1)\n",
      "Requirement already satisfied: keras-preprocessing>=1.0.5 in /opt/conda/lib/python3.6/site-packages (from tensorflow) (1.0.9)\n",
      "Requirement already satisfied: grpcio>=1.8.6 in /opt/conda/lib/python3.6/site-packages (from tensorflow) (1.19.0)\n",
      "Requirement already satisfied: wheel>=0.26 in /opt/conda/lib/python3.6/site-packages (from tensorflow) (0.32.3)\n",
      "Requirement already satisfied: mock>=2.0.0 in /opt/conda/lib/python3.6/site-packages (from tensorflow-estimator<1.14.0rc0,>=1.13.0->tensorflow) (2.0.0)\n",
      "Requirement already satisfied: setuptools in /opt/conda/lib/python3.6/site-packages (from protobuf>=3.6.1->tensorflow) (40.6.3)\n",
      "Requirement already satisfied: h5py in /opt/conda/lib/python3.6/site-packages (from keras-applications>=1.0.6->tensorflow) (2.7.1)\n",
      "Requirement already satisfied: werkzeug>=0.11.15 in /opt/conda/lib/python3.6/site-packages (from tensorboard<1.14.0,>=1.13.0->tensorflow) (0.14.1)\n",
      "Requirement already satisfied: markdown>=2.6.8 in /opt/conda/lib/python3.6/site-packages (from tensorboard<1.14.0,>=1.13.0->tensorflow) (3.0.1)\n",
      "Requirement already satisfied: pbr>=0.11 in /opt/conda/lib/python3.6/site-packages (from mock>=2.0.0->tensorflow-estimator<1.14.0rc0,>=1.13.0->tensorflow) (5.1.3)\n",
      "Requirement already satisfied: tensorflow_hub in /opt/conda/lib/python3.6/site-packages (0.3.0)\n",
      "Requirement already satisfied: six>=1.10.0 in /opt/conda/lib/python3.6/site-packages (from tensorflow_hub) (1.12.0)\n",
      "Requirement already satisfied: protobuf>=3.4.0 in /opt/conda/lib/python3.6/site-packages (from tensorflow_hub) (3.6.1)\n",
      "Requirement already satisfied: numpy>=1.12.0 in /opt/conda/lib/python3.6/site-packages (from tensorflow_hub) (1.13.3)\n",
      "Requirement already satisfied: setuptools in /opt/conda/lib/python3.6/site-packages (from protobuf>=3.4.0->tensorflow_hub) (40.6.3)\n"
     ]
    },
    {
     "name": "stderr",
     "output_type": "stream",
     "text": [
      "[nltk_data] Downloading package stopwords to /home/jovyan/nltk_data...\n",
      "[nltk_data]   Package stopwords is already up-to-date!\n",
      "[nltk_data] Downloading package wordnet to /home/jovyan/nltk_data...\n",
      "[nltk_data]   Package wordnet is already up-to-date!\n"
     ]
    }
   ],
   "source": [
    "###Install and import necessary packages\n",
    "!pip install praw\n",
    "!pip install nltk\n",
    "!pip install tensorflow\n",
    "!pip install tensorflow_hub\n",
    "import numpy as np\n",
    "import tensorflow as tf\n",
    "import tensorflow_hub as hub\n",
    "import nltk\n",
    "import re\n",
    "from nltk.corpus import stopwords\n",
    "from string import punctuation\n",
    "nltk.download('stopwords')\n",
    "nltk.download('wordnet')\n",
    "from sklearn.metrics.pairwise import cosine_similarity\n",
    "import praw\n"
   ]
  },
  {
   "cell_type": "markdown",
   "metadata": {},
   "source": [
    "### URL to Universal Sentence Encoder Model'"
   ]
  },
  {
   "cell_type": "code",
   "execution_count": 22,
   "metadata": {},
   "outputs": [],
   "source": [
    "# Tensorflow hub module for Universal sentence Encoder\n",
    "module_url = \"https://tfhub.dev/google/universal-sentence-encoder-large/3\" "
   ]
  },
  {
   "cell_type": "code",
   "execution_count": 12,
   "metadata": {},
   "outputs": [
    {
     "name": "stdout",
     "output_type": "stream",
     "text": [
      "WARNING:tensorflow:From /opt/conda/lib/python3.6/site-packages/tensorflow/python/ops/control_flow_ops.py:3632: colocate_with (from tensorflow.python.framework.ops) is deprecated and will be removed in a future version.\n",
      "Instructions for updating:\n",
      "Colocations handled automatically by placer.\n"
     ]
    },
    {
     "name": "stderr",
     "output_type": "stream",
     "text": [
      "W0318 15:48:57.055262 140021791913792 deprecation.py:323] From /opt/conda/lib/python3.6/site-packages/tensorflow/python/ops/control_flow_ops.py:3632: colocate_with (from tensorflow.python.framework.ops) is deprecated and will be removed in a future version.\n",
      "Instructions for updating:\n",
      "Colocations handled automatically by placer.\n"
     ]
    }
   ],
   "source": [
    "embed = hub.Module(module_url)"
   ]
  },
  {
   "cell_type": "code",
   "execution_count": 13,
   "metadata": {},
   "outputs": [],
   "source": [
    "def get_features(texts):\n",
    "    if type(texts) is str:\n",
    "        texts = [texts]\n",
    "    with tf.Session() as sess:\n",
    "        sess.run([tf.global_variables_initializer(), tf.tables_initializer()])\n",
    "        return sess.run(embed(texts))"
   ]
  },
  {
   "cell_type": "code",
   "execution_count": 14,
   "metadata": {},
   "outputs": [],
   "source": [
    "#Helper Function Stop Words Removal sometimes improves the results and can be commented out if it doesn't\n",
    "\n",
    "stop_words =''\n",
    "#stop_words = stopwords.words('english') + list(punctuation)\n",
    "\n",
    "def remove_stopwords(stop_words, tokens):\n",
    "    res = []\n",
    "    for token in tokens:\n",
    "        if not token in stop_words:\n",
    "            res.append(token)\n",
    "    return res\n",
    "\n",
    "def process_text(text):\n",
    "    #text = text.encode('ascii', errors='ignore').decode()\n",
    "    text = text.lower()\n",
    "    text = re.sub(r'http:', ' ', text)\n",
    "    text = re.sub(r'https:', ' ', text)\n",
    "    text = re.sub(r'www.', ' ', text)\n",
    "    text = re.sub(r'.com', ' ', text)\n",
    "    text =re.sub('[^A-Za-z0-9]+', ' ', text) ##Eliminates special characters\n",
    "    text = re.sub(r\"\\'ve\", \" have \", text)\n",
    "    text = re.sub(r\"won't\", \"will not \", text)\n",
    "    text = re.sub(r\"isn't\", \"is not \", text)\n",
    "    text = re.sub(r\"can't\", \"can not \", text)\n",
    "    text = re.sub(r\"n't\", \" not \", text)\n",
    "    text = re.sub(r\"i'm\", \"i am \", text)\n",
    "    text = re.sub(r\"\\'re\", \" are \", text)\n",
    "    text = re.sub(r\"\\'d\", \" would \", text)\n",
    "    text = re.sub(r\"\\'ll\", \" will \", text)\n",
    "    text = re.sub('\\s+', ' ', text) ##Elimates whitespace character\": space, tab, newline, carriage return, vertical tab\n",
    "    text = text.strip()\n",
    "    return text\n",
    "\n",
    "\n",
    "def process_all(text):\n",
    "    text = process_text(text)\n",
    "    return ' '.join(remove_stopwords(stop_words, text.split()))\n"
   ]
  },
  {
   "cell_type": "markdown",
   "metadata": {},
   "source": [
    "### Test the preprocessing steps"
   ]
  },
  {
   "cell_type": "code",
   "execution_count": 138,
   "metadata": {},
   "outputs": [
    {
     "data": {
      "text/plain": [
       "'rrrr'"
      ]
     },
     "execution_count": 138,
     "metadata": {},
     "output_type": "execute_result"
    }
   ],
   "source": [
    "#Test the process text Function\n",
    "process_text(\"https://www.rrrr.com ### \\n @@@\")"
   ]
  },
  {
   "cell_type": "markdown",
   "metadata": {},
   "source": [
    "## Dataset in the below cell is sample dataset obtained from Reddit. You can substitute your own dataset with predefined questions."
   ]
  },
  {
   "cell_type": "code",
   "execution_count": 29,
   "metadata": {},
   "outputs": [],
   "source": [
    "data = [\n",
    "    \"What are ETFs and how do they work?\",\n",
    "    \"Can't Afford to Sustain Grandmother in California, How do I go about refinancing an auto loan\",\n",
    "    \"what are your goals?\",\n",
    "    \"420k in debt. Want to buy a house.How do I choose between making traditional vs Roth contributions to 401K\"\n",
    "    'New to /r/personalfinance? Have questions? Read this first!',\n",
    "     'Weekday Help and Victory Thread for the week of March 18, 2019',\n",
    "     \"My old college said that I didn't owe them any money before I left. Now that I'm applying to other places they've sent me to collections and won't release my transcripts.\",\n",
    "     'Hospital balance from Sexual Assault has gone into collections? Supposed to be paid by the state.',\n",
    "     'Question about vehicle trade in for dealership',\n",
    "     'Hospital sent me a bill for service I did not recieve. Both the hospital and collections refuses to send an itemized statement or investigate.',\n",
    "     \"Haven't filed my taxes since 2016. Been paralyzed as to what to do or the repercussions\",\n",
    "     '$28k windfall of cash as \"gift\"',\n",
    "     'Lots of Savings but About to be Laid off',\n",
    "     '[medical][insurance] Got billed as an ER visit at an urgent care. Spent 11 months trying to misbill us, we finally got the bill and its outrageous.',\n",
    "     'About to close on a house and my loan officer asks for permission to make changes on my insurance policy?',\n",
    "     \"If your bank calls you, even if the phone number is legit, don't verify ANYTHING, call them back first\",\n",
    "     'What are the impacts of adding an authorized user to one of my cards?',\n",
    "     'Freetaxusa.com is amazing.',\n",
    "     '(California) Unmarried now and have $400k in equity in my house. If I sell after I get married, will that equity be split 50/50 with my future wife?',\n",
    "     'Any tools/apps to help me with my uncontrollable spending habits? + extras in the USA',\n",
    "     'Mistaken Check from large Furniture Credit Company',\n",
    "     'Husband Lost Job While in Escrow',\n",
    "     'If your IRA is predominantly ETFs, what do you do with the leftover $30 in cash?',\n",
    "     'How to handle loaning a large amount of money to family?',\n",
    "     'Kids money',\n",
    "     'Alternatives to EveryDollar Budgeting App?',\n",
    "     \"Realistically, what's the value of pursuing a job offer v pursuing education?\",\n",
    "     'Federal Loans Payoff Advice',\n",
    "     'Buying a Home while in Debt',\n",
    "     'Turbo Tax fraud',\n",
    "     'I am 28 and disabled. I have received 200K net from a personal injury settlement. Advice is needed.',\n",
    "     'Pay off Debt or Invest in House',\n",
    "     'What are ETFs and how do they work?',\n",
    "     'How to Stop Parents From Hacking Bank Accounts',\n",
    "     \"Haven't done my taxes in at least 3 years? What should I do?\",\n",
    "    ]\n"
   ]
  },
  {
   "cell_type": "markdown",
   "metadata": {},
   "source": [
    "## Please read this blog on steps to connect to the Reddit Api. You just need client_id, client_secret, user agent key, username and password or you can substitute this with your own data\n",
    "### http://www.storybench.org/how-to-scrape-reddit-with-python/"
   ]
  },
  {
   "cell_type": "code",
   "execution_count": 115,
   "metadata": {},
   "outputs": [],
   "source": [
    "## Setting up the credentials\n",
    "my_client_id = 'Yz5v783hk6qlyw'\n",
    "my_client_secret = 'if7WtwuPj508ludBD8BDs7AnJZ4'\n",
    "my_user_agent ='Testing'\n",
    "\n",
    "reddit = praw.Reddit(client_id=my_client_id, client_secret=my_client_secret, user_agent=my_user_agent, username='anuragsirish12', password ='Tendulkar3121951')"
   ]
  },
  {
   "cell_type": "code",
   "execution_count": 116,
   "metadata": {},
   "outputs": [
    {
     "name": "stdout",
     "output_type": "stream",
     "text": [
      "New to /r/personalfinance? Have questions? Read this first!\n",
      "Weekday Help and Victory Thread for the week of March 18, 2019\n",
      "Hospital balance from Sexual Assault has gone into collections? Supposed to be paid by the state.\n",
      "My old college said that I didn't owe them any money before I left. Now that I'm applying to other places they've sent me to collections and won't release my transcripts.\n",
      "Question about vehicle trade in for dealership\n",
      "Haven't filed my taxes since 2016. Been paralyzed as to what to do or the repercussions\n",
      "Hospital sent me a bill for service I did not recieve. Both the hospital and collections refuses to send an itemized statement or investigate.\n",
      "I’m in a terrible financial position right now, I need advice desperately.\n",
      "[medical][insurance] Got billed as an ER visit at an urgent care. Spent 11 months trying to misbill us, we finally got the bill and its outrageous.\n",
      "$28k windfall of cash as \"gift\"\n"
     ]
    }
   ],
   "source": [
    "## Displaying 10 hop topics in Reddit Personal Finance forum\n",
    "hot_posts = reddit.subreddit('personalfinance').hot(limit=10)\n",
    "for post in hot_posts:\n",
    "    print(post.title)"
   ]
  },
  {
   "cell_type": "code",
   "execution_count": 35,
   "metadata": {},
   "outputs": [],
   "source": [
    "import pandas as pd\n",
    "posts = []\n",
    "personalfinance_subreddit = reddit.subreddit('personalfinance')\n",
    "for post in personalfinance_subreddit.hot(limit=1000):\n",
    "    posts.append([post.title])"
   ]
  },
  {
   "cell_type": "code",
   "execution_count": 27,
   "metadata": {},
   "outputs": [],
   "source": [
    "flattened_posts = [x for p in posts for x in p]"
   ]
  },
  {
   "cell_type": "code",
   "execution_count": 36,
   "metadata": {},
   "outputs": [
    {
     "data": {
      "text/plain": [
       "['New to /r/personalfinance? Have questions? Read this first!',\n",
       " 'Weekday Help and Victory Thread for the week of March 18, 2019',\n",
       " \"My old college said that I didn't owe them any money before I left. Now that I'm applying to other places they've sent me to collections and won't release my transcripts.\",\n",
       " 'Hospital balance from Sexual Assault has gone into collections? Supposed to be paid by the state.',\n",
       " 'Question about vehicle trade in for dealership',\n",
       " 'Hospital sent me a bill for service I did not recieve. Both the hospital and collections refuses to send an itemized statement or investigate.',\n",
       " \"Haven't filed my taxes since 2016. Been paralyzed as to what to do or the repercussions\",\n",
       " '$28k windfall of cash as \"gift\"',\n",
       " 'Lots of Savings but About to be Laid off',\n",
       " '[medical][insurance] Got billed as an ER visit at an urgent care. Spent 11 months trying to misbill us, we finally got the bill and its outrageous.']"
      ]
     },
     "execution_count": 36,
     "metadata": {},
     "output_type": "execute_result"
    }
   ],
   "source": [
    "flattened_posts[0:10]"
   ]
  },
  {
   "cell_type": "code",
   "execution_count": 40,
   "metadata": {},
   "outputs": [],
   "source": [
    "data_processed = list(map(process_all, flattened_posts))"
   ]
  },
  {
   "cell_type": "markdown",
   "metadata": {},
   "source": [
    "## Text Preprocessing comparison with original text"
   ]
  },
  {
   "cell_type": "code",
   "execution_count": 44,
   "metadata": {},
   "outputs": [],
   "source": [
    "posts_original_modified=list(zip(flattened_posts,data_processed))"
   ]
  },
  {
   "cell_type": "code",
   "execution_count": 125,
   "metadata": {},
   "outputs": [
    {
     "data": {
      "text/plain": [
       "[('Weekday Help and Victory Thread for the week of March 18, 2019',\n",
       "  'weekday help and victory thread for the week of march 18 2019',\n",
       "  [0.03783087059855461]),\n",
       " (\"My old college said that I didn't owe them any money before I left. Now that I'm applying to other places they've sent me to collections and won't release my transcripts.\",\n",
       "  'my old college said that i didn t owe them any money before i left now that i m applying to other places they ve sent me to collections and won t release my transcripts',\n",
       "  [0.043355993926525116]),\n",
       " ('Hospital balance from Sexual Assault has gone into collections? Supposed to be paid by the state.',\n",
       "  'hospital balance from sexual assault has gone into collections supposed to be paid by the state',\n",
       "  [0.011397574096918106]),\n",
       " ('Question about vehicle trade in for dealership',\n",
       "  'question about vehicle trade in for dealership',\n",
       "  [0.636070728302002]),\n",
       " (\"Haven't filed my taxes since 2016. Been paralyzed as to what to do or the repercussions\",\n",
       "  'hospital sent me a bill for service i did not recieve both the hospital and collections refuses to send an itemized statement or investigate',\n",
       "  [0.2061096429824829]),\n",
       " ('Hospital sent me a bill for service I did not recieve. Both the hospital and collections refuses to send an itemized statement or investigate.',\n",
       "  'haven t filed my taxes since 2016 been paralyzed as to what to do or the repercussions',\n",
       "  [0.1525261402130127]),\n",
       " ('$28k windfall of cash as \"gift\"',\n",
       "  '28k windfall of cash as gift',\n",
       "  [0.17615646123886108]),\n",
       " ('Lots of Savings but About to be Laid off',\n",
       "  'lots of savings but about to be laid off',\n",
       "  [0.25687357783317566]),\n",
       " ('[medical][insurance] Got billed as an ER visit at an urgent care. Spent 11 months trying to misbill us, we finally got the bill and its outrageous.',\n",
       "  'medical insurance got billed as an er visit at an urgent care spent 11 months trying to misbill us we finally got the bill and its outrageous',\n",
       "  [0.09761756658554077])]"
      ]
     },
     "execution_count": 125,
     "metadata": {},
     "output_type": "execute_result"
    }
   ],
   "source": [
    "posts_original_modified[1:10]"
   ]
  },
  {
   "cell_type": "code",
   "execution_count": 48,
   "metadata": {},
   "outputs": [],
   "source": [
    "flattened_posts = [x for p in posts for x in p]"
   ]
  },
  {
   "cell_type": "code",
   "execution_count": 49,
   "metadata": {},
   "outputs": [
    {
     "name": "stdout",
     "output_type": "stream",
     "text": [
      "INFO:tensorflow:Saver not created because there are no variables in the graph to restore\n"
     ]
    },
    {
     "name": "stderr",
     "output_type": "stream",
     "text": [
      "I0318 18:56:35.053654 140021791913792 saver.py:1483] Saver not created because there are no variables in the graph to restore\n"
     ]
    }
   ],
   "source": [
    "vectorized_form = get_features(flattened_posts)"
   ]
  },
  {
   "cell_type": "code",
   "execution_count": 50,
   "metadata": {},
   "outputs": [],
   "source": [
    "posts_original_modified=list(zip(flattened_posts,data_processed,vectorized_form))"
   ]
  },
  {
   "cell_type": "code",
   "execution_count": 126,
   "metadata": {
    "collapsed": true
   },
   "outputs": [
    {
     "data": {
      "text/plain": [
       "[('New to /r/personalfinance? Have questions? Read this first!',\n",
       "  'new to r personalfinance have questions read this first',\n",
       "  [0.3784327507019043]),\n",
       " ('Weekday Help and Victory Thread for the week of March 18, 2019',\n",
       "  'weekday help and victory thread for the week of march 18 2019',\n",
       "  [0.03783087059855461]),\n",
       " (\"My old college said that I didn't owe them any money before I left. Now that I'm applying to other places they've sent me to collections and won't release my transcripts.\",\n",
       "  'my old college said that i didn t owe them any money before i left now that i m applying to other places they ve sent me to collections and won t release my transcripts',\n",
       "  [0.043355993926525116]),\n",
       " ('Hospital balance from Sexual Assault has gone into collections? Supposed to be paid by the state.',\n",
       "  'hospital balance from sexual assault has gone into collections supposed to be paid by the state',\n",
       "  [0.011397574096918106]),\n",
       " ('Question about vehicle trade in for dealership',\n",
       "  'question about vehicle trade in for dealership',\n",
       "  [0.636070728302002])]"
      ]
     },
     "execution_count": 126,
     "metadata": {},
     "output_type": "execute_result"
    }
   ],
   "source": [
    "posts_original_modified[0:5]"
   ]
  },
  {
   "cell_type": "code",
   "execution_count": 53,
   "metadata": {},
   "outputs": [
    {
     "data": {
      "text/plain": [
       "(972, 512)"
      ]
     },
     "execution_count": 53,
     "metadata": {},
     "output_type": "execute_result"
    }
   ],
   "source": [
    "vectorized_form.shape"
   ]
  },
  {
   "cell_type": "code",
   "execution_count": 73,
   "metadata": {},
   "outputs": [],
   "source": [
    "def test_similarity(text1, text2):\n",
    "    query_vector = get_features(text1)[0]\n",
    "    vectors = get_features(text2)[0]\n",
    "    scores = cosine_similarity(query_vector.reshape(1,-1), vectors.reshape(1,-1))\n",
    "    return scores"
   ]
  },
  {
   "cell_type": "code",
   "execution_count": 74,
   "metadata": {},
   "outputs": [
    {
     "name": "stdout",
     "output_type": "stream",
     "text": [
      "INFO:tensorflow:Saver not created because there are no variables in the graph to restore\n"
     ]
    },
    {
     "name": "stderr",
     "output_type": "stream",
     "text": [
      "I0318 19:13:55.929396 140021791913792 saver.py:1483] Saver not created because there are no variables in the graph to restore\n"
     ]
    },
    {
     "name": "stdout",
     "output_type": "stream",
     "text": [
      "INFO:tensorflow:Saver not created because there are no variables in the graph to restore\n"
     ]
    },
    {
     "name": "stderr",
     "output_type": "stream",
     "text": [
      "I0318 19:14:07.661585 140021791913792 saver.py:1483] Saver not created because there are no variables in the graph to restore\n"
     ]
    },
    {
     "data": {
      "text/plain": [
       "array([[ 0.55801135]], dtype=float32)"
      ]
     },
     "execution_count": 74,
     "metadata": {},
     "output_type": "execute_result"
    }
   ],
   "source": [
    "test_similarity('dog', 'boy')"
   ]
  },
  {
   "cell_type": "code",
   "execution_count": 131,
   "metadata": {},
   "outputs": [],
   "source": [
    "def semantic_search(query, data, vectors):\n",
    "    query = process_text(query)\n",
    "    print(\"Extracting features...\")\n",
    "    query_vec = get_features(query)[0].reshape(1,-1)\n",
    "    res = []\n",
    "    for i, d in enumerate(data):\n",
    "        qvec = vectors[i].reshape(1,-1)\n",
    "        sim = cosine_similarity(query_vec, qvec)\n",
    "        res.append((sim, d[:500], i))\n",
    "    return sorted(res, key=lambda x : x[0], reverse=True)"
   ]
  },
  {
   "cell_type": "markdown",
   "metadata": {},
   "source": [
    "## <b> Testing the semantic search function"
   ]
  },
  {
   "cell_type": "markdown",
   "metadata": {},
   "source": [
    "## Test Question 1 = I want to buy a used car. please suggest some ideas\"\n",
    "### Top 3 matches from Reddit Dataset:-\n",
    "### 1) Used car purchase - advice\n",
    "### 2) Haven't bought a car in about 10 years need some help/any advice\n",
    "### 3) Need help deciding on what to do with my car!\n",
    "### Demonstration below"
   ]
  },
  {
   "cell_type": "code",
   "execution_count": 132,
   "metadata": {},
   "outputs": [
    {
     "name": "stdout",
     "output_type": "stream",
     "text": [
      "Extracting features...\n",
      "INFO:tensorflow:Saver not created because there are no variables in the graph to restore\n"
     ]
    },
    {
     "name": "stderr",
     "output_type": "stream",
     "text": [
      "I0318 22:14:22.029773 140021791913792 saver.py:1483] Saver not created because there are no variables in the graph to restore\n"
     ]
    }
   ],
   "source": [
    "list_of_similar_questions = semantic_search(\"I want to buy a used car. please suggest some ideas\", flattened_posts, vectorized_form)"
   ]
  },
  {
   "cell_type": "code",
   "execution_count": 133,
   "metadata": {},
   "outputs": [
    {
     "name": "stdout",
     "output_type": "stream",
     "text": [
      "Used car purchase - advice\n",
      "Haven't bought a car in about 10 years need some help/any advice\n",
      "Need help deciding on what to do with my car!\n",
      "Car advice, repair or junk car/how much to spend on a new vehicle?\n",
      "20 year looking to buy a car with no credit but 15k savings\n",
      "About to buy a new (to me) car - financing questions\n",
      "First time buying a new car. How do I get the best interest rate?\n",
      "Car is starting to take a dump on me. How would I determine whether a new car is worth it at this point?\n",
      "Should I buy a car?\n",
      "I keep running into expensive repairs with my vehicle and I want to take a loan to buy a new one.\n"
     ]
    }
   ],
   "source": [
    "for i in list_of_similar_questions[0:10]:\n",
    "    print(i[1])"
   ]
  },
  {
   "cell_type": "markdown",
   "metadata": {},
   "source": [
    "## Test Question 2 = I want to start investing in stocks. Where do I start? \"\n",
    "### Top 3 matches from Reddit Dataset:-\n",
    "### 1) Guys i want to start investing in stocks at 15 years old, what do I do?\n",
    "### 2) Getting into investing, any advice?\n",
    "### 3) I’m 18, no experience in the stock market, and would like to experiment with low-dollar short-term investments, preferably as an app on my phone. What would you guys recommend?\n",
    "### Demonstration below :"
   ]
  },
  {
   "cell_type": "code",
   "execution_count": 135,
   "metadata": {},
   "outputs": [
    {
     "name": "stdout",
     "output_type": "stream",
     "text": [
      "Extracting features...\n",
      "INFO:tensorflow:Saver not created because there are no variables in the graph to restore\n"
     ]
    },
    {
     "name": "stderr",
     "output_type": "stream",
     "text": [
      "I0318 22:15:07.246835 140021791913792 saver.py:1483] Saver not created because there are no variables in the graph to restore\n"
     ]
    }
   ],
   "source": [
    "list_of_similar_questions = semantic_search(\"I want to start investing in stocks. Where do I start? \", flattened_posts, vectorized_form)"
   ]
  },
  {
   "cell_type": "code",
   "execution_count": 136,
   "metadata": {},
   "outputs": [
    {
     "name": "stdout",
     "output_type": "stream",
     "text": [
      "Guys i want to start investing in stocks at 15 years old, what do I do?\n",
      "Getting into investing, any advice?\n",
      "I’m 18, no experience in the stock market, and would like to experiment with low-dollar short-term investments, preferably as an app on my phone. What would you guys recommend?\n",
      "What's the best way to invest ~$30k?\n",
      "Looking for tips to save and invest!\n",
      "Smartest way to diversify after company stock options sale? (novice investor, risk-tolerant)\n",
      "$90k cash sitting around in 401k, Roth accounts. Oops. How would you invest for 15-20 years?\n",
      "22 Years old, landed a job that gives me roughly 60k a year, how do I invest?\n",
      "Advice for my first personal investment into index products\n",
      "Looking for dividend options\n"
     ]
    }
   ],
   "source": [
    "for i in list_of_similar_questions[0:10]:\n",
    "    print(i[1])"
   ]
  },
  {
   "cell_type": "markdown",
   "metadata": {},
   "source": [
    "## <B> Next Steps"
   ]
  },
  {
   "cell_type": "markdown",
   "metadata": {},
   "source": [
    "### 1)To improve the performance,extract the corpus of questions from Reddit, vectorize it using USE and store it as pickled file. Run the similarity matching function against the pickled file.\n",
    "### 2) Answers associated to every question can be obtained from Reddit as well. Answer with the highest votes can be considered the right answer.\n",
    "### 3) After finding the questions with highest similarity percentage, corresponding answers with highest votes can be retrieved by the user.\n",
    "### 4) Trying to leverage cloud? Check out this article that explains how to implement Semantic Similarity using Universal Sentence Encoder and GCP Components.\n",
    "###   https://cloud.google.com/solutions/machine-learning/analyzing-text-semantic-similarity-using-tensorflow-and-cloud-dataflow"
   ]
  },
  {
   "cell_type": "markdown",
   "metadata": {},
   "source": []
  },
  {
   "cell_type": "code",
   "execution_count": null,
   "metadata": {},
   "outputs": [],
   "source": []
  },
  {
   "cell_type": "code",
   "execution_count": null,
   "metadata": {},
   "outputs": [],
   "source": []
  }
 ],
 "metadata": {
  "kernelspec": {
   "display_name": "Python 3",
   "language": "python",
   "name": "python3"
  },
  "language_info": {
   "codemirror_mode": {
    "name": "ipython",
    "version": 3
   },
   "file_extension": ".py",
   "mimetype": "text/x-python",
   "name": "python",
   "nbconvert_exporter": "python",
   "pygments_lexer": "ipython3",
   "version": "3.6.7"
  }
 },
 "nbformat": 4,
 "nbformat_minor": 2
}
